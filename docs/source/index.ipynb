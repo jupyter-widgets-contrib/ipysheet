{
 "cells": [
  {
   "cell_type": "markdown",
   "metadata": {},
   "source": [
    "# Spreadsheet widget for the Jupyter Notebook\n",
    "## Installation\n",
    "\n",
    "With conda:\n",
    "\n",
    "```\n",
    "$ conda install -c conda-forge ipysheet\n",
    "```\n",
    "\n",
    "With pip:\n",
    "\n",
    "```\n",
    "$ pip install ipysheet\n",
    "```\n",
    "\n",
    "To make it work for Jupyter lab:\n",
    "```\n",
    "$ jupyter labextension install ipysheet\n",
    "```\n",
    "\n",
    "If you have notebook 5.2 or below, you also need to execute:\n",
    "```\n",
    "$ jupyter nbextension enable --py --sys-prefix ipysheet\n",
    "$ jupyter nbextension enable --py --sys-prefix ipysheet.renderer_nbext\n",
    "```"
   ]
  },
  {
   "cell_type": "markdown",
   "metadata": {},
   "source": [
    "# Getting started\n",
    "Although ipysheet contains an object oriented interface, we recomment using the \"state machine\" based interface, similar to matplotlib's pyplot/pylab interface. Comparible to matplotlib pylab interface, this interface keeps track of the current sheet. Using the [cell](API_reference.rst#ipysheet.easy.cell) function, [Cell](API_reference.rst#ipysheet.sheet.Cell) widgets are added to the current sheet.\n",
    "\n",
    "Importing ipysheet and invoking the [sheet](API_reference.rst#ipysheet.easy.sheet) function will create the default spreadsheet widget. The function returns a [Sheet](API_reference.rst#ipysheet.sheet.Sheet) instance, leaving that expression as a last statement of a code cell will display it, otherwise use `display(sheet)`.\n",
    "\n",
    "Note that this documentation is a Jupyter notebook, and you can try it out directly on Binder:\n",
    "[![Binder](https://mybinder.org/badge.svg)](https://mybinder.org/v2/gh/QuantStack/ipysheet/master?filepath=docs%2Fsource%2Findex.ipynb)"
   ]
  },
  {
   "cell_type": "code",
   "execution_count": 1,
   "metadata": {},
   "outputs": [
    {
     "data": {
      "application/vnd.jupyter.widget-view+json": {
       "model_id": "61a071babe60412b80911561c15110ad",
       "version_major": 2,
       "version_minor": 0
      },
      "text/html": [
       "<p>Failed to display Jupyter Widget of type <code>Sheet</code>.</p>\n",
       "<p>\n",
       "  If you're reading this message in the Jupyter Notebook or JupyterLab Notebook, it may mean\n",
       "  that the widgets JavaScript is still loading. If this message persists, it\n",
       "  likely means that the widgets JavaScript library is either not installed or\n",
       "  not enabled. See the <a href=\"https://ipywidgets.readthedocs.io/en/stable/user_install.html\">Jupyter\n",
       "  Widgets Documentation</a> for setup instructions.\n",
       "</p>\n",
       "<p>\n",
       "  If you're reading this message in another frontend (for example, a static\n",
       "  rendering on GitHub or <a href=\"https://nbviewer.jupyter.org/\">NBViewer</a>),\n",
       "  it may mean that your frontend doesn't currently support widgets.\n",
       "</p>\n"
      ],
      "text/plain": [
       "Sheet(columns=5, data=[[]], rows=5)"
      ]
     },
     "metadata": {},
     "output_type": "display_data"
    }
   ],
   "source": [
    "import ipysheet\n",
    "sheet = ipysheet.sheet()\n",
    "sheet"
   ]
  },
  {
   "cell_type": "markdown",
   "metadata": {},
   "source": [
    "Using the [cell](API_reference.rst#ipysheet.easy.cell) function, we can create [Cell](API_reference.rst#ipysheet.sheet.Cell) widgets that are directly added to the current sheet."
   ]
  },
  {
   "cell_type": "code",
   "execution_count": 2,
   "metadata": {},
   "outputs": [
    {
     "data": {
      "application/vnd.jupyter.widget-view+json": {
       "model_id": "3ca55d79cd0f433ea873e8aaa95dd43f",
       "version_major": 2,
       "version_minor": 0
      },
      "text/html": [
       "<p>Failed to display Jupyter Widget of type <code>Sheet</code>.</p>\n",
       "<p>\n",
       "  If you're reading this message in the Jupyter Notebook or JupyterLab Notebook, it may mean\n",
       "  that the widgets JavaScript is still loading. If this message persists, it\n",
       "  likely means that the widgets JavaScript library is either not installed or\n",
       "  not enabled. See the <a href=\"https://ipywidgets.readthedocs.io/en/stable/user_install.html\">Jupyter\n",
       "  Widgets Documentation</a> for setup instructions.\n",
       "</p>\n",
       "<p>\n",
       "  If you're reading this message in another frontend (for example, a static\n",
       "  rendering on GitHub or <a href=\"https://nbviewer.jupyter.org/\">NBViewer</a>),\n",
       "  it may mean that your frontend doesn't currently support widgets.\n",
       "</p>\n"
      ],
      "text/plain": [
       "Sheet(cells=(Cell(column_end=0, column_start=0, row_end=0, row_start=0, type='text', value='Hello'), Cell(column_end=0, column_start=0, row_end=2, row_start=2, type='text', value='World'), Cell(column_end=2, column_start=2, row_end=2, row_start=2, type='numeric', value=42.0)), data=[[]])"
      ]
     },
     "metadata": {},
     "output_type": "display_data"
    }
   ],
   "source": [
    "sheet = ipysheet.sheet(rows=3, columns=4)\n",
    "cell1 = ipysheet.cell(0, 0, 'Hello')\n",
    "cell2 = ipysheet.cell(2, 0, 'World')\n",
    "cell_value = ipysheet.cell(2,2, 42.)\n",
    "sheet"
   ]
  },
  {
   "cell_type": "markdown",
   "metadata": {},
   "source": [
    "# Events\n",
    "Using link or observe we can link widgets together, or attach event handlers"
   ]
  },
  {
   "cell_type": "markdown",
   "metadata": {
    "raw_mimetype": "text/html"
   },
   "source": [
    "\n",
    "<div class=\"alert alert-warning\">\n",
    "\n",
    "**Note:** The examples below contain event handler written in Python that needs a running kernel, they will not work in the pure html documentation. They do work in binder!\n",
    "\n",
    "</div>\n"
   ]
  },
  {
   "cell_type": "code",
   "execution_count": 3,
   "metadata": {},
   "outputs": [
    {
     "data": {
      "application/vnd.jupyter.widget-view+json": {
       "model_id": "8320d2f2aa464b22b0f816b5a3e64e54",
       "version_major": 2,
       "version_minor": 0
      },
      "text/html": [
       "<p>Failed to display Jupyter Widget of type <code>VBox</code>.</p>\n",
       "<p>\n",
       "  If you're reading this message in the Jupyter Notebook or JupyterLab Notebook, it may mean\n",
       "  that the widgets JavaScript is still loading. If this message persists, it\n",
       "  likely means that the widgets JavaScript library is either not installed or\n",
       "  not enabled. See the <a href=\"https://ipywidgets.readthedocs.io/en/stable/user_install.html\">Jupyter\n",
       "  Widgets Documentation</a> for setup instructions.\n",
       "</p>\n",
       "<p>\n",
       "  If you're reading this message in another frontend (for example, a static\n",
       "  rendering on GitHub or <a href=\"https://nbviewer.jupyter.org/\">NBViewer</a>),\n",
       "  it may mean that your frontend doesn't currently support widgets.\n",
       "</p>\n"
      ],
      "text/plain": [
       "VBox(children=(Sheet(cells=(Cell(column_end=1, column_start=1, row_end=0, row_start=0, type='numeric', value=1), Cell(column_end=0, column_start=0, row_end=0, row_start=0, style={'fontWeight': 'bold'}, type='text', value='a'), Cell(column_end=1, column_start=1, row_end=1, row_start=1, type='numeric', value=2), Cell(column_end=0, column_start=0, row_end=1, row_start=1, style={'fontWeight': 'bold'}, type='text', value='b'), Cell(column_end=1, column_start=1, read_only=True, row_end=2, row_start=2, type='numeric', value=3), Cell(column_end=0, column_start=0, row_end=2, row_start=2, style={'fontWeight': 'bold'}, type='text', value='sum')), column_headers=False, columns=2, data=[[]], row_headers=False), FloatSlider(value=0.0, description='a', max=10.0, min=-10.0)))"
      ]
     },
     "metadata": {},
     "output_type": "display_data"
    }
   ],
   "source": [
    "import ipywidgets as widgets\n",
    "sheet = ipysheet.sheet(rows=3, columns=2, column_headers=False, row_headers=False)\n",
    "cell_a = ipysheet.cell(0, 1, 1, label_left='a')\n",
    "cell_b = ipysheet.cell(1, 1, 2, label_left='b')\n",
    "cell_sum = ipysheet.cell(2, 1, 3, label_left='sum', read_only=True)\n",
    "\n",
    "# create a slider linked to cell a\n",
    "slider = widgets.FloatSlider(min=-10, max=10, description='a')\n",
    "widgets.jslink((cell_a, 'value'), (slider, 'value'))\n",
    "\n",
    "# changes in a or b should trigger this function\n",
    "def calculate(change):\n",
    "    cell_sum.value = cell_a.value + cell_b.value\n",
    "\n",
    "cell_a.observe(calculate, 'value')\n",
    "cell_b.observe(calculate, 'value')\n",
    "\n",
    "\n",
    "widgets.VBox([sheet, slider])"
   ]
  },
  {
   "cell_type": "markdown",
   "metadata": {},
   "source": [
    "# Cell ranges\n",
    "Instead of referring to a single cell, we can also refer to cell ranges, rows and columns."
   ]
  },
  {
   "cell_type": "code",
   "execution_count": 4,
   "metadata": {},
   "outputs": [
    {
     "data": {
      "application/vnd.jupyter.widget-view+json": {
       "model_id": "23ede81dd59e4cab8c62a76b3408f587",
       "version_major": 2,
       "version_minor": 0
      },
      "text/html": [
       "<p>Failed to display Jupyter Widget of type <code>Sheet</code>.</p>\n",
       "<p>\n",
       "  If you're reading this message in the Jupyter Notebook or JupyterLab Notebook, it may mean\n",
       "  that the widgets JavaScript is still loading. If this message persists, it\n",
       "  likely means that the widgets JavaScript library is either not installed or\n",
       "  not enabled. See the <a href=\"https://ipywidgets.readthedocs.io/en/stable/user_install.html\">Jupyter\n",
       "  Widgets Documentation</a> for setup instructions.\n",
       "</p>\n",
       "<p>\n",
       "  If you're reading this message in another frontend (for example, a static\n",
       "  rendering on GitHub or <a href=\"https://nbviewer.jupyter.org/\">NBViewer</a>),\n",
       "  it may mean that your frontend doesn't currently support widgets.\n",
       "</p>\n"
      ],
      "text/plain": [
       "Sheet(cells=(Cell(column_end=3, column_start=0, row_end=0, row_start=0, squeeze_column=False, style={'backgroundColor': 'red'}, type='numeric', value=[0, 1, 2, 3]), Cell(column_end=1, column_start=1, row_end=4, row_start=1, squeeze_row=False, style={'backgroundColor': 'green'}, type='text', value=['a', 'b', 'c', 'd']), Cell(column_end=3, column_start=2, row_start=1, squeeze_column=False, squeeze_row=False, style={'backgroundColor': 'yellow'}, type='text', value=[['hi', 'ola'], ['ciao', 'bonjour'], ['hallo', 'guten tag']])), data=[[]], rows=5)"
      ]
     },
     "metadata": {},
     "output_type": "display_data"
    }
   ],
   "source": [
    "sheet = ipysheet.sheet(rows=5, columns=4)\n",
    "row = ipysheet.row(0, [0, 1, 2, 3], background_color=\"red\")\n",
    "column = ipysheet.column(1, [\"a\", \"b\", \"c\", \"d\"], row_start=1, background_color=\"green\")\n",
    "cells = ipysheet.cell_range([[\"hi\", \"ola\"], [\"ciao\", \"bonjour\"], [\"hallo\", \"guten tag\"]],\n",
    "                            row_start=1, column_start=2, background_color=\"yellow\")\n",
    "sheet\n"
   ]
  },
  {
   "cell_type": "markdown",
   "metadata": {},
   "source": [
    "## Calculations\n",
    "Since this is such a common pattern, a helper decorator [calculation](API_reference.rst#ipysheet.easy.calculation) is provided, shortening the above code considerably."
   ]
  },
  {
   "cell_type": "code",
   "execution_count": 5,
   "metadata": {},
   "outputs": [
    {
     "data": {
      "application/vnd.jupyter.widget-view+json": {
       "model_id": "b90f35b2c3644c52ab8a7ea600e677b7",
       "version_major": 2,
       "version_minor": 0
      },
      "text/html": [
       "<p>Failed to display Jupyter Widget of type <code>VBox</code>.</p>\n",
       "<p>\n",
       "  If you're reading this message in the Jupyter Notebook or JupyterLab Notebook, it may mean\n",
       "  that the widgets JavaScript is still loading. If this message persists, it\n",
       "  likely means that the widgets JavaScript library is either not installed or\n",
       "  not enabled. See the <a href=\"https://ipywidgets.readthedocs.io/en/stable/user_install.html\">Jupyter\n",
       "  Widgets Documentation</a> for setup instructions.\n",
       "</p>\n",
       "<p>\n",
       "  If you're reading this message in another frontend (for example, a static\n",
       "  rendering on GitHub or <a href=\"https://nbviewer.jupyter.org/\">NBViewer</a>),\n",
       "  it may mean that your frontend doesn't currently support widgets.\n",
       "</p>\n"
      ],
      "text/plain": [
       "VBox(children=(Sheet(cells=(Cell(column_end=1, column_start=1, row_end=0, row_start=0, type='numeric', value=1), Cell(column_end=0, column_start=0, row_end=0, row_start=0, style={'fontWeight': 'bold'}, type='text', value='a'), Cell(column_end=1, column_start=1, row_end=1, row_start=1, type='numeric', value=2), Cell(column_end=0, column_start=0, row_end=1, row_start=1, style={'fontWeight': 'bold'}, type='text', value='b'), Cell(column_end=1, column_start=1, read_only=True, row_end=2, row_start=2, type='numeric', value=3), Cell(column_end=0, column_start=0, row_end=2, row_start=2, style={'fontWeight': 'bold'}, type='text', value='sum')), column_headers=False, columns=2, data=[[]], row_headers=False), FloatSlider(value=0.0, description='a', max=10.0, min=-10.0)))"
      ]
     },
     "metadata": {},
     "output_type": "display_data"
    }
   ],
   "source": [
    "import ipywidgets as widgets\n",
    "sheet = ipysheet.sheet(rows=3, columns=2, column_headers=False, row_headers=False)\n",
    "cell_a = ipysheet.cell(0, 1, 1, label_left='a')\n",
    "cell_b = ipysheet.cell(1, 1, 2, label_left='b')\n",
    "cell_sum = ipysheet.cell(2, 1, 3, label_left='sum', read_only=True)\n",
    "\n",
    "# create a slider linked to cell a\n",
    "slider = widgets.FloatSlider(min=-10, max=10, description='a')\n",
    "widgets.jslink((cell_a, 'value'), (slider, 'value'))\n",
    "\n",
    "@ipysheet.calculation(inputs=[cell_a, cell_b], output=cell_sum)\n",
    "def calculate(a, b):\n",
    "    return a + b\n",
    "\n",
    "widgets.VBox([sheet, slider])"
   ]
  },
  {
   "cell_type": "markdown",
   "metadata": {},
   "source": [
    "# Renderers\n",
    "ipysheet is build on Handsontable, which allows [custom renderers](https://docs.handsontable.com/demo-custom-renderers.html), which we also support. Note that this means ipysheet allows arbitrary JavaScript injection (TODO: make this part optional)"
   ]
  },
  {
   "cell_type": "code",
   "execution_count": 6,
   "metadata": {},
   "outputs": [],
   "source": [
    "jscode_renderer_negative = \"\"\"\n",
    "function (instance, td, row, col, prop, value, cellProperties) {\n",
    "    Handsontable.renderers.TextRenderer.apply(this, arguments);\n",
    "    if (value < 0)\n",
    "        td.style.backgroundColor = 'red'\n",
    "    else\n",
    "        td.style.backgroundColor = 'green'\n",
    "}\n",
    "\"\"\"\n",
    "ipysheet.renderer(code=jscode_renderer_negative, name='negative');"
   ]
  },
  {
   "cell_type": "code",
   "execution_count": 7,
   "metadata": {},
   "outputs": [
    {
     "data": {
      "application/vnd.jupyter.widget-view+json": {
       "model_id": "0335a0ed07b344308504332e4e4295d2",
       "version_major": 2,
       "version_minor": 0
      },
      "text/html": [
       "<p>Failed to display Jupyter Widget of type <code>Sheet</code>.</p>\n",
       "<p>\n",
       "  If you're reading this message in the Jupyter Notebook or JupyterLab Notebook, it may mean\n",
       "  that the widgets JavaScript is still loading. If this message persists, it\n",
       "  likely means that the widgets JavaScript library is either not installed or\n",
       "  not enabled. See the <a href=\"https://ipywidgets.readthedocs.io/en/stable/user_install.html\">Jupyter\n",
       "  Widgets Documentation</a> for setup instructions.\n",
       "</p>\n",
       "<p>\n",
       "  If you're reading this message in another frontend (for example, a static\n",
       "  rendering on GitHub or <a href=\"https://nbviewer.jupyter.org/\">NBViewer</a>),\n",
       "  it may mean that your frontend doesn't currently support widgets.\n",
       "</p>\n"
      ],
      "text/plain": [
       "Sheet(cells=(Cell(column_end=3, column_start=0, renderer='negative', row_end=2, row_start=0, squeeze_column=False, squeeze_row=False, type='numeric', value=[[6, 9, -8, 2], [-7, 3, -10, -6], [-4, -3, 1, -8]]),), data=[[]])"
      ]
     },
     "metadata": {},
     "output_type": "display_data"
    }
   ],
   "source": [
    "import random\n",
    "s = ipysheet.sheet(rows=3, columns=4)\n",
    "data = [[random.randint(-10, 10) for j in range(4)] for j in range(3)]\n",
    "ipysheet.cell_range(data, renderer='negative')\n",
    "s"
   ]
  },
  {
   "cell_type": "markdown",
   "metadata": {},
   "source": [
    "If [flexx](http://flexx.readthedocs.io/en/stable/pyscript/index.html) is installed, Python code can be transpiled to JavaScript at runtime."
   ]
  },
  {
   "cell_type": "code",
   "execution_count": 10,
   "metadata": {},
   "outputs": [],
   "source": [
    "def renderer_negative(instance, td, row, col, prop, value, cellProperties):\n",
    "    Handsontable.renderers.TextRenderer.apply(this, arguments);\n",
    "    if value < 0:\n",
    "        td.style.backgroundColor = 'orange'\n",
    "    else:\n",
    "        td.style.backgroundColor = ''\n",
    "ipysheet.renderer(code=renderer_negative, name='negative_transpiled');"
   ]
  },
  {
   "cell_type": "code",
   "execution_count": 11,
   "metadata": {},
   "outputs": [
    {
     "data": {
      "application/vnd.jupyter.widget-view+json": {
       "model_id": "51246dd683c14044bd264dcbebf4c586",
       "version_major": 2,
       "version_minor": 0
      },
      "text/html": [
       "<p>Failed to display Jupyter Widget of type <code>Sheet</code>.</p>\n",
       "<p>\n",
       "  If you're reading this message in the Jupyter Notebook or JupyterLab Notebook, it may mean\n",
       "  that the widgets JavaScript is still loading. If this message persists, it\n",
       "  likely means that the widgets JavaScript library is either not installed or\n",
       "  not enabled. See the <a href=\"https://ipywidgets.readthedocs.io/en/stable/user_install.html\">Jupyter\n",
       "  Widgets Documentation</a> for setup instructions.\n",
       "</p>\n",
       "<p>\n",
       "  If you're reading this message in another frontend (for example, a static\n",
       "  rendering on GitHub or <a href=\"https://nbviewer.jupyter.org/\">NBViewer</a>),\n",
       "  it may mean that your frontend doesn't currently support widgets.\n",
       "</p>\n"
      ],
      "text/plain": [
       "Sheet(cells=(Cell(column_end=3, column_start=0, renderer='negative_transpiled', row_end=2, row_start=0, squeeze_column=False, squeeze_row=False, type='numeric', value=[[-2, 9, -3, 0], [-3, -7, -10, -9], [7, -1, 2, -10]]),), data=[[]])"
      ]
     },
     "metadata": {},
     "output_type": "display_data"
    }
   ],
   "source": [
    "import random\n",
    "s = ipysheet.sheet(rows=3, columns=4)\n",
    "data = [[random.randint(-10, 10) for j in range(4)] for j in range(3)]\n",
    "ipysheet.cell_range(data, renderer='negative_transpiled')\n",
    "s"
   ]
  },
  {
   "cell_type": "markdown",
   "metadata": {
    "nbsphinx-toctree": {}
   },
   "source": [
    "[API Reference](API_reference.rst)"
   ]
  }
 ],
 "metadata": {
  "celltoolbar": "Raw Cell Format",
  "kernelspec": {
   "display_name": "Python 3",
   "language": "python",
   "name": "python3"
  },
  "language_info": {
   "codemirror_mode": {
    "name": "ipython",
    "version": 3
   },
   "file_extension": ".py",
   "mimetype": "text/x-python",
   "name": "python",
   "nbconvert_exporter": "python",
   "pygments_lexer": "ipython3",
   "version": "3.7.1"
  },
  "widgets": {
   "application/vnd.jupyter.widget-state+json": {
    "state": {
     "1094b502bbaa43a5ac5129ed0580f937": {
      "model_module": "ipysheet",
      "model_module_version": "~0.2.0-beta.1",
      "model_name": "SheetModel",
      "state": {
       "cells": [
        "IPY_MODEL_3530d5f1f6ca410db33dc87e3282e658",
        "IPY_MODEL_1ab6171e08754a4e9a9a75f1ed6c3b87",
        "IPY_MODEL_44ca410cfdae45f69da16b569a8d6b43",
        "IPY_MODEL_72587a74e9ac4ecd81a4fb5f91bbf4ba",
        "IPY_MODEL_e8d42a22528a4f7ab5bd1b1891a0ecd0",
        "IPY_MODEL_9b8d887431dd4afea613166dde15c4ce"
       ],
       "column_headers": false,
       "columns": 2,
       "data": [
        [
         {
          "options": {
           "format": "0.[000]",
           "style": {
            "fontWeight": "bold"
           },
           "type": "text"
          },
          "value": "a"
         },
         {
          "options": {
           "format": "0.[000]",
           "style": {},
           "type": "numeric"
          },
          "value": 1
         }
        ],
        [
         {
          "options": {
           "format": "0.[000]",
           "style": {
            "fontWeight": "bold"
           },
           "type": "text"
          },
          "value": "b"
         },
         {
          "options": {
           "format": "0.[000]",
           "style": {},
           "type": "numeric"
          },
          "value": 2
         }
        ],
        [
         {
          "options": {
           "format": "0.[000]",
           "style": {
            "fontWeight": "bold"
           },
           "type": "text"
          },
          "value": "sum"
         },
         {
          "options": {
           "format": "0.[000]",
           "readOnly": true,
           "style": {},
           "type": "numeric"
          },
          "value": 3
         }
        ]
       ],
       "layout": "IPY_MODEL_91ed3a1d33ea4d14bf25726440bdf1b9",
       "row_headers": false
      }
     },
     "16459ec352264ff9a15101cb2a876072": {
      "model_module": "@jupyter-widgets/controls",
      "model_module_version": "1.1.0",
      "model_name": "VBoxModel",
      "state": {
       "children": [
        "IPY_MODEL_1094b502bbaa43a5ac5129ed0580f937",
        "IPY_MODEL_a680b4dfb91f439ba6aa66ade9cc3dfb"
       ],
       "layout": "IPY_MODEL_49b3b90b231c4c46bd05fc3938a0e49d"
      }
     },
     "17f9a304bee84d38a13c3c430e1c21ec": {
      "model_module": "@jupyter-widgets/controls",
      "model_module_version": "1.1.0",
      "model_name": "SliderStyleModel",
      "state": {
       "description_width": ""
      }
     },
     "1ab6171e08754a4e9a9a75f1ed6c3b87": {
      "model_module": "ipysheet",
      "model_module_version": "~0.2.0-beta.1",
      "model_name": "CellRangeModel",
      "state": {
       "_view_module": null,
       "_view_module_version": "",
       "column_end": 0,
       "column_start": 0,
       "row_end": 0,
       "row_start": 0,
       "style": {
        "fontWeight": "bold"
       },
       "type": "text",
       "value": "a"
      }
     },
     "204fc45b80484de487b474d12e6c5335": {
      "model_module": "ipysheet/renderer",
      "model_module_version": "~0.2.0-beta.1",
      "model_name": "RendererModel",
      "state": {
       "_model_module": "ipysheet/renderer",
       "_view_module": "ipysheet/renderer",
       "_view_module_version": "~0.2.0-beta.1",
       "code": "\nfunction() {\n                  var _pyfunc_truthy = function (v) {\n                    if (v === null || typeof v !== \"object\") {return v;}\n                    else if (v.length !== undefined) {return v.length ? v : false;}\n                    else if (v.byteLength !== undefined) {return v.byteLength ? v : false;}\n                    else if (v.constructor !== Object) {return true;}\n                    else {return Object.getOwnPropertyNames(v).length ? v : false;}\n                };\n                var the_renderer;\n                the_renderer = function (instance, td, row, col, prop, value, cellProperties) {\n                    Handsontable.renderers.TextRenderer.apply(this, arguments);\n                    if (_pyfunc_truthy(value < 0)) {\n                        td.style.backgroundColor = \"orange\";\n                    } else {\n                        td.style.backgroundColor = \"\";\n                    }\n                    return null;\n                };\n\n  return the_renderer\n\n}()\n",
       "name": "negative_transpiled"
      }
     },
     "2824edfdf664475b95a5444b3b2d0df9": {
      "model_module": "ipysheet",
      "model_module_version": "~0.2.0-beta.1",
      "model_name": "SheetModel",
      "state": {
       "columns": 5,
       "data": [
        [
         {
          "options": {},
          "value": null
         },
         {
          "options": {},
          "value": null
         },
         {
          "options": {},
          "value": null
         },
         {
          "options": {},
          "value": null
         },
         {
          "options": {},
          "value": null
         }
        ],
        [
         {
          "options": {},
          "value": null
         },
         {
          "options": {},
          "value": null
         },
         {
          "options": {},
          "value": null
         },
         {
          "options": {},
          "value": null
         },
         {
          "options": {},
          "value": null
         }
        ],
        [
         {
          "options": {},
          "value": null
         },
         {
          "options": {},
          "value": null
         },
         {
          "options": {},
          "value": null
         },
         {
          "options": {},
          "value": null
         },
         {
          "options": {},
          "value": null
         }
        ],
        [
         {
          "options": {},
          "value": null
         },
         {
          "options": {},
          "value": null
         },
         {
          "options": {},
          "value": null
         },
         {
          "options": {},
          "value": null
         },
         {
          "options": {},
          "value": null
         }
        ],
        [
         {
          "options": {},
          "value": null
         },
         {
          "options": {},
          "value": null
         },
         {
          "options": {},
          "value": null
         },
         {
          "options": {},
          "value": null
         },
         {
          "options": {},
          "value": null
         }
        ]
       ],
       "layout": "IPY_MODEL_851d9b9e86ce405da5041b5df542aedb",
       "rows": 5
      }
     },
     "2cbc7e64ff664c57a61898e081f7075e": {
      "model_module": "@jupyter-widgets/controls",
      "model_module_version": "1.1.0",
      "model_name": "LinkModel",
      "state": {
       "source": [
        "IPY_MODEL_3530d5f1f6ca410db33dc87e3282e658",
        "value"
       ],
       "target": [
        "IPY_MODEL_a680b4dfb91f439ba6aa66ade9cc3dfb",
        "value"
       ]
      }
     },
     "3530d5f1f6ca410db33dc87e3282e658": {
      "model_module": "ipysheet",
      "model_module_version": "~0.2.0-beta.1",
      "model_name": "CellRangeModel",
      "state": {
       "_view_module": null,
       "_view_module_version": "",
       "row_end": 0,
       "row_start": 0,
       "type": "numeric",
       "value": 1
      }
     },
     "3be89756704f481895c680a98c38d4ac": {
      "model_module": "@jupyter-widgets/base",
      "model_module_version": "1.0.0",
      "model_name": "LayoutModel",
      "state": {}
     },
     "429ce4e9e0e342f08212d3f7ec819acf": {
      "model_module": "@jupyter-widgets/controls",
      "model_module_version": "1.1.0",
      "model_name": "LinkModel",
      "state": {
       "source": [
        "IPY_MODEL_f84b7ec6c92e44af954267af3b944c7e",
        "value"
       ],
       "target": [
        "IPY_MODEL_eb6b80dc66054d9481658e6f6859d41e",
        "value"
       ]
      }
     },
     "44ca410cfdae45f69da16b569a8d6b43": {
      "model_module": "ipysheet",
      "model_module_version": "~0.2.0-beta.1",
      "model_name": "CellRangeModel",
      "state": {
       "_view_module": null,
       "_view_module_version": "",
       "type": "numeric",
       "value": 2
      }
     },
     "45cb1f3e29a7459397fdc5949c86afbf": {
      "model_module": "ipysheet",
      "model_module_version": "~0.2.0-beta.1",
      "model_name": "CellRangeModel",
      "state": {
       "_view_module": null,
       "_view_module_version": "",
       "column_end": 3,
       "column_start": 2,
       "row_end": 3,
       "squeeze_column": false,
       "squeeze_row": false,
       "style": {
        "backgroundColor": "yellow"
       },
       "type": "text",
       "value": [
        [
         "hi",
         "ola"
        ],
        [
         "ciao",
         "bonjour"
        ],
        [
         "hallo",
         "guten tag"
        ]
       ]
      }
     },
     "45d734d6cf564101bf4ca626a372c33a": {
      "model_module": "@jupyter-widgets/controls",
      "model_module_version": "1.1.0",
      "model_name": "VBoxModel",
      "state": {
       "children": [
        "IPY_MODEL_479360fea7104960a52ea8abd3e2436d",
        "IPY_MODEL_eb6b80dc66054d9481658e6f6859d41e"
       ],
       "layout": "IPY_MODEL_60c59ba243774454bbcad10119d1da25"
      }
     },
     "479360fea7104960a52ea8abd3e2436d": {
      "model_module": "ipysheet",
      "model_module_version": "~0.2.0-beta.1",
      "model_name": "SheetModel",
      "state": {
       "cells": [
        "IPY_MODEL_f84b7ec6c92e44af954267af3b944c7e",
        "IPY_MODEL_b74bfea698fd421db6db310a4624ae82",
        "IPY_MODEL_7429f9b0c46e4b0ea8a03da90f1da87d",
        "IPY_MODEL_5335992a53d34053ac47541d15ef1ff9",
        "IPY_MODEL_f30005c0374c45f688be26797efc1291",
        "IPY_MODEL_9207da6b53a94e4e8ebb3316947c7cc6"
       ],
       "column_headers": false,
       "columns": 2,
       "data": [
        [
         {
          "options": {
           "format": "0.[000]",
           "style": {
            "fontWeight": "bold"
           },
           "type": "text"
          },
          "value": "a"
         },
         {
          "options": {
           "format": "0.[000]",
           "style": {},
           "type": "numeric"
          },
          "value": 1
         }
        ],
        [
         {
          "options": {
           "format": "0.[000]",
           "style": {
            "fontWeight": "bold"
           },
           "type": "text"
          },
          "value": "b"
         },
         {
          "options": {
           "format": "0.[000]",
           "style": {},
           "type": "numeric"
          },
          "value": 2
         }
        ],
        [
         {
          "options": {
           "format": "0.[000]",
           "style": {
            "fontWeight": "bold"
           },
           "type": "text"
          },
          "value": "sum"
         },
         {
          "options": {
           "format": "0.[000]",
           "readOnly": true,
           "style": {},
           "type": "numeric"
          },
          "value": 3
         }
        ]
       ],
       "layout": "IPY_MODEL_3be89756704f481895c680a98c38d4ac",
       "row_headers": false
      }
     },
     "490579e259eb4ddebc73063f484b9d4c": {
      "model_module": "@jupyter-widgets/base",
      "model_module_version": "1.0.0",
      "model_name": "LayoutModel",
      "state": {}
     },
     "49b3b90b231c4c46bd05fc3938a0e49d": {
      "model_module": "@jupyter-widgets/base",
      "model_module_version": "1.0.0",
      "model_name": "LayoutModel",
      "state": {}
     },
     "4ae2ab2aedb34666adb4789b6c688460": {
      "model_module": "@jupyter-widgets/base",
      "model_module_version": "1.0.0",
      "model_name": "LayoutModel",
      "state": {}
     },
     "5335992a53d34053ac47541d15ef1ff9": {
      "model_module": "ipysheet",
      "model_module_version": "~0.2.0-beta.1",
      "model_name": "CellRangeModel",
      "state": {
       "_view_module": null,
       "_view_module_version": "",
       "column_end": 0,
       "column_start": 0,
       "style": {
        "fontWeight": "bold"
       },
       "type": "text",
       "value": "b"
      }
     },
     "5fb088e599dd41bebbaad9cc64b7f4f8": {
      "model_module": "ipysheet",
      "model_module_version": "~0.2.0-beta.1",
      "model_name": "CellRangeModel",
      "state": {
       "_view_module": null,
       "_view_module_version": "",
       "column_end": 0,
       "column_start": 0,
       "row_end": 0,
       "row_start": 0,
       "type": "text",
       "value": "Hello"
      }
     },
     "60c59ba243774454bbcad10119d1da25": {
      "model_module": "@jupyter-widgets/base",
      "model_module_version": "1.0.0",
      "model_name": "LayoutModel",
      "state": {}
     },
     "677c531cd7f44fcd854e40af68321953": {
      "model_module": "ipysheet",
      "model_module_version": "~0.2.0-beta.1",
      "model_name": "CellRangeModel",
      "state": {
       "_view_module": null,
       "_view_module_version": "",
       "column_end": 3,
       "column_start": 0,
       "renderer": "negative",
       "row_end": 2,
       "row_start": 0,
       "squeeze_column": false,
       "squeeze_row": false,
       "type": "numeric",
       "value": [
        [
         -1,
         5,
         -9,
         -5
        ],
        [
         8,
         8,
         -3,
         -1
        ],
        [
         -10,
         6,
         6,
         9
        ]
       ]
      }
     },
     "70f901d7321b4aa2aa1939d57f6155d2": {
      "model_module": "ipysheet",
      "model_module_version": "~0.2.0-beta.1",
      "model_name": "SheetModel",
      "state": {
       "cells": [
        "IPY_MODEL_7740d8bb371a405686563ee44806e193",
        "IPY_MODEL_813cf65712844e12a373c9ee8f5784bb",
        "IPY_MODEL_45cb1f3e29a7459397fdc5949c86afbf"
       ],
       "data": [
        [
         {
          "options": {
           "format": "0.[000]",
           "style": {
            "backgroundColor": "red"
           },
           "type": "numeric"
          },
          "value": 0
         },
         {
          "options": {
           "format": "0.[000]",
           "style": {
            "backgroundColor": "red"
           },
           "type": "numeric"
          },
          "value": 1
         },
         {
          "options": {
           "format": "0.[000]",
           "style": {
            "backgroundColor": "red"
           },
           "type": "numeric"
          },
          "value": 2
         },
         {
          "options": {
           "format": "0.[000]",
           "style": {
            "backgroundColor": "red"
           },
           "type": "numeric"
          },
          "value": 3
         }
        ],
        [
         {
          "options": {},
          "value": null
         },
         {
          "options": {
           "format": "0.[000]",
           "style": {
            "backgroundColor": "green"
           },
           "type": "text"
          },
          "value": "a"
         },
         {
          "options": {
           "format": "0.[000]",
           "style": {
            "backgroundColor": "yellow"
           },
           "type": "text"
          },
          "value": "hi"
         },
         {
          "options": {
           "format": "0.[000]",
           "style": {
            "backgroundColor": "yellow"
           },
           "type": "text"
          },
          "value": "ola"
         }
        ],
        [
         {
          "options": {},
          "value": null
         },
         {
          "options": {
           "format": "0.[000]",
           "style": {
            "backgroundColor": "green"
           },
           "type": "text"
          },
          "value": "b"
         },
         {
          "options": {
           "format": "0.[000]",
           "style": {
            "backgroundColor": "yellow"
           },
           "type": "text"
          },
          "value": "ciao"
         },
         {
          "options": {
           "format": "0.[000]",
           "style": {
            "backgroundColor": "yellow"
           },
           "type": "text"
          },
          "value": "bonjour"
         }
        ],
        [
         {
          "options": {},
          "value": null
         },
         {
          "options": {
           "format": "0.[000]",
           "style": {
            "backgroundColor": "green"
           },
           "type": "text"
          },
          "value": "c"
         },
         {
          "options": {
           "format": "0.[000]",
           "style": {
            "backgroundColor": "yellow"
           },
           "type": "text"
          },
          "value": "hallo"
         },
         {
          "options": {
           "format": "0.[000]",
           "style": {
            "backgroundColor": "yellow"
           },
           "type": "text"
          },
          "value": "guten tag"
         }
        ],
        [
         {
          "options": {},
          "value": null
         },
         {
          "options": {
           "format": "0.[000]",
           "style": {
            "backgroundColor": "green"
           },
           "type": "text"
          },
          "value": "d"
         },
         {
          "options": {},
          "value": null
         },
         {
          "options": {},
          "value": null
         }
        ]
       ],
       "layout": "IPY_MODEL_72bb4dc5066a4315ab30109add04e6d5",
       "rows": 5
      }
     },
     "72587a74e9ac4ecd81a4fb5f91bbf4ba": {
      "model_module": "ipysheet",
      "model_module_version": "~0.2.0-beta.1",
      "model_name": "CellRangeModel",
      "state": {
       "_view_module": null,
       "_view_module_version": "",
       "column_end": 0,
       "column_start": 0,
       "style": {
        "fontWeight": "bold"
       },
       "type": "text",
       "value": "b"
      }
     },
     "72bb4dc5066a4315ab30109add04e6d5": {
      "model_module": "@jupyter-widgets/base",
      "model_module_version": "1.0.0",
      "model_name": "LayoutModel",
      "state": {}
     },
     "7429f9b0c46e4b0ea8a03da90f1da87d": {
      "model_module": "ipysheet",
      "model_module_version": "~0.2.0-beta.1",
      "model_name": "CellRangeModel",
      "state": {
       "_view_module": null,
       "_view_module_version": "",
       "type": "numeric",
       "value": 2
      }
     },
     "7535221f4d23492080e8c0643ed74c52": {
      "model_module": "ipysheet",
      "model_module_version": "~0.2.0-beta.1",
      "model_name": "CellRangeModel",
      "state": {
       "_view_module": null,
       "_view_module_version": "",
       "column_end": 2,
       "column_start": 2,
       "row_end": 2,
       "row_start": 2,
       "type": "numeric",
       "value": 42
      }
     },
     "7740d8bb371a405686563ee44806e193": {
      "model_module": "ipysheet",
      "model_module_version": "~0.2.0-beta.1",
      "model_name": "CellRangeModel",
      "state": {
       "_view_module": null,
       "_view_module_version": "",
       "column_end": 3,
       "column_start": 0,
       "row_end": 0,
       "row_start": 0,
       "squeeze_column": false,
       "style": {
        "backgroundColor": "red"
       },
       "type": "numeric",
       "value": [
        0,
        1,
        2,
        3
       ]
      }
     },
     "8036c43598b9412eb7c2688c3935d894": {
      "model_module": "@jupyter-widgets/controls",
      "model_module_version": "1.1.0",
      "model_name": "SliderStyleModel",
      "state": {
       "description_width": ""
      }
     },
     "813cf65712844e12a373c9ee8f5784bb": {
      "model_module": "ipysheet",
      "model_module_version": "~0.2.0-beta.1",
      "model_name": "CellRangeModel",
      "state": {
       "_view_module": null,
       "_view_module_version": "",
       "row_end": 4,
       "squeeze_row": false,
       "style": {
        "backgroundColor": "green"
       },
       "type": "text",
       "value": [
        "a",
        "b",
        "c",
        "d"
       ]
      }
     },
     "851d9b9e86ce405da5041b5df542aedb": {
      "model_module": "@jupyter-widgets/base",
      "model_module_version": "1.0.0",
      "model_name": "LayoutModel",
      "state": {}
     },
     "8b60764826974fefb6060390c1908f86": {
      "model_module": "ipysheet/renderer",
      "model_module_version": "~0.2.0-beta.1",
      "model_name": "RendererModel",
      "state": {
       "_model_module": "ipysheet/renderer",
       "_view_module": "ipysheet/renderer",
       "_view_module_version": "~0.2.0-beta.1",
       "code": "\nfunction (instance, td, row, col, prop, value, cellProperties) {\n    Handsontable.renderers.TextRenderer.apply(this, arguments);\n    if (value < 0)\n        td.style.backgroundColor = 'red'\n    else\n        td.style.backgroundColor = 'green'\n}\n",
       "name": "negative"
      }
     },
     "91ed3a1d33ea4d14bf25726440bdf1b9": {
      "model_module": "@jupyter-widgets/base",
      "model_module_version": "1.0.0",
      "model_name": "LayoutModel",
      "state": {}
     },
     "9207da6b53a94e4e8ebb3316947c7cc6": {
      "model_module": "ipysheet",
      "model_module_version": "~0.2.0-beta.1",
      "model_name": "CellRangeModel",
      "state": {
       "_view_module": null,
       "_view_module_version": "",
       "column_end": 0,
       "column_start": 0,
       "row_end": 2,
       "row_start": 2,
       "style": {
        "fontWeight": "bold"
       },
       "type": "text",
       "value": "sum"
      }
     },
     "9b8d887431dd4afea613166dde15c4ce": {
      "model_module": "ipysheet",
      "model_module_version": "~0.2.0-beta.1",
      "model_name": "CellRangeModel",
      "state": {
       "_view_module": null,
       "_view_module_version": "",
       "column_end": 0,
       "column_start": 0,
       "row_end": 2,
       "row_start": 2,
       "style": {
        "fontWeight": "bold"
       },
       "type": "text",
       "value": "sum"
      }
     },
     "a680b4dfb91f439ba6aa66ade9cc3dfb": {
      "model_module": "@jupyter-widgets/controls",
      "model_module_version": "1.1.0",
      "model_name": "FloatSliderModel",
      "state": {
       "description": "a",
       "layout": "IPY_MODEL_b424164f527a4a0e829d43e9d405e289",
       "max": 10,
       "min": -10,
       "step": 0.1,
       "style": "IPY_MODEL_8036c43598b9412eb7c2688c3935d894",
       "value": 1
      }
     },
     "b424164f527a4a0e829d43e9d405e289": {
      "model_module": "@jupyter-widgets/base",
      "model_module_version": "1.0.0",
      "model_name": "LayoutModel",
      "state": {}
     },
     "b74bfea698fd421db6db310a4624ae82": {
      "model_module": "ipysheet",
      "model_module_version": "~0.2.0-beta.1",
      "model_name": "CellRangeModel",
      "state": {
       "_view_module": null,
       "_view_module_version": "",
       "column_end": 0,
       "column_start": 0,
       "row_end": 0,
       "row_start": 0,
       "style": {
        "fontWeight": "bold"
       },
       "type": "text",
       "value": "a"
      }
     },
     "dd6f01e8544944b1a9412b3078e56293": {
      "model_module": "@jupyter-widgets/base",
      "model_module_version": "1.0.0",
      "model_name": "LayoutModel",
      "state": {}
     },
     "e8b2b575049f47fcbef587be473fea46": {
      "model_module": "ipysheet",
      "model_module_version": "~0.2.0-beta.1",
      "model_name": "SheetModel",
      "state": {
       "cells": [
        "IPY_MODEL_fcacd5761f2d403389481bec9c0c1b45"
       ],
       "data": [
        [
         {
          "options": {
           "format": "0.[000]",
           "renderer": "negative_transpiled",
           "style": {},
           "type": "numeric"
          },
          "value": 7
         },
         {
          "options": {
           "format": "0.[000]",
           "renderer": "negative_transpiled",
           "style": {},
           "type": "numeric"
          },
          "value": 9
         },
         {
          "options": {
           "format": "0.[000]",
           "renderer": "negative_transpiled",
           "style": {},
           "type": "numeric"
          },
          "value": 6
         },
         {
          "options": {
           "format": "0.[000]",
           "renderer": "negative_transpiled",
           "style": {},
           "type": "numeric"
          },
          "value": -7
         }
        ],
        [
         {
          "options": {
           "format": "0.[000]",
           "renderer": "negative_transpiled",
           "style": {},
           "type": "numeric"
          },
          "value": 1
         },
         {
          "options": {
           "format": "0.[000]",
           "renderer": "negative_transpiled",
           "style": {},
           "type": "numeric"
          },
          "value": 9
         },
         {
          "options": {
           "format": "0.[000]",
           "renderer": "negative_transpiled",
           "style": {},
           "type": "numeric"
          },
          "value": -7
         },
         {
          "options": {
           "format": "0.[000]",
           "renderer": "negative_transpiled",
           "style": {},
           "type": "numeric"
          },
          "value": 3
         }
        ],
        [
         {
          "options": {
           "format": "0.[000]",
           "renderer": "negative_transpiled",
           "style": {},
           "type": "numeric"
          },
          "value": -6
         },
         {
          "options": {
           "format": "0.[000]",
           "renderer": "negative_transpiled",
           "style": {},
           "type": "numeric"
          },
          "value": 8
         },
         {
          "options": {
           "format": "0.[000]",
           "renderer": "negative_transpiled",
           "style": {},
           "type": "numeric"
          },
          "value": 5
         },
         {
          "options": {
           "format": "0.[000]",
           "renderer": "negative_transpiled",
           "style": {},
           "type": "numeric"
          },
          "value": 6
         }
        ]
       ],
       "layout": "IPY_MODEL_dd6f01e8544944b1a9412b3078e56293"
      }
     },
     "e8d42a22528a4f7ab5bd1b1891a0ecd0": {
      "model_module": "ipysheet",
      "model_module_version": "~0.2.0-beta.1",
      "model_name": "CellRangeModel",
      "state": {
       "_view_module": null,
       "_view_module_version": "",
       "read_only": true,
       "row_end": 2,
       "row_start": 2,
       "type": "numeric",
       "value": 3
      }
     },
     "eb6b80dc66054d9481658e6f6859d41e": {
      "model_module": "@jupyter-widgets/controls",
      "model_module_version": "1.1.0",
      "model_name": "FloatSliderModel",
      "state": {
       "description": "a",
       "layout": "IPY_MODEL_fb8585b8bc564f67878d7640d22e6881",
       "max": 10,
       "min": -10,
       "step": 0.1,
       "style": "IPY_MODEL_17f9a304bee84d38a13c3c430e1c21ec",
       "value": 1
      }
     },
     "f02be425b957435896a876b97a3ab70c": {
      "model_module": "ipysheet",
      "model_module_version": "~0.2.0-beta.1",
      "model_name": "CellRangeModel",
      "state": {
       "_view_module": null,
       "_view_module_version": "",
       "column_end": 0,
       "column_start": 0,
       "row_end": 2,
       "row_start": 2,
       "type": "text",
       "value": "World"
      }
     },
     "f2142d671607450cad2181a1bfcb7e30": {
      "model_module": "ipysheet",
      "model_module_version": "~0.2.0-beta.1",
      "model_name": "SheetModel",
      "state": {
       "cells": [
        "IPY_MODEL_677c531cd7f44fcd854e40af68321953"
       ],
       "data": [
        [
         {
          "options": {
           "format": "0.[000]",
           "renderer": "negative",
           "style": {},
           "type": "numeric"
          },
          "value": -1
         },
         {
          "options": {
           "format": "0.[000]",
           "renderer": "negative",
           "style": {},
           "type": "numeric"
          },
          "value": 5
         },
         {
          "options": {
           "format": "0.[000]",
           "renderer": "negative",
           "style": {},
           "type": "numeric"
          },
          "value": -9
         },
         {
          "options": {
           "format": "0.[000]",
           "renderer": "negative",
           "style": {},
           "type": "numeric"
          },
          "value": -5
         }
        ],
        [
         {
          "options": {
           "format": "0.[000]",
           "renderer": "negative",
           "style": {},
           "type": "numeric"
          },
          "value": 8
         },
         {
          "options": {
           "format": "0.[000]",
           "renderer": "negative",
           "style": {},
           "type": "numeric"
          },
          "value": 8
         },
         {
          "options": {
           "format": "0.[000]",
           "renderer": "negative",
           "style": {},
           "type": "numeric"
          },
          "value": -3
         },
         {
          "options": {
           "format": "0.[000]",
           "renderer": "negative",
           "style": {},
           "type": "numeric"
          },
          "value": -1
         }
        ],
        [
         {
          "options": {
           "format": "0.[000]",
           "renderer": "negative",
           "style": {},
           "type": "numeric"
          },
          "value": -10
         },
         {
          "options": {
           "format": "0.[000]",
           "renderer": "negative",
           "style": {},
           "type": "numeric"
          },
          "value": 6
         },
         {
          "options": {
           "format": "0.[000]",
           "renderer": "negative",
           "style": {},
           "type": "numeric"
          },
          "value": 6
         },
         {
          "options": {
           "format": "0.[000]",
           "renderer": "negative",
           "style": {},
           "type": "numeric"
          },
          "value": 9
         }
        ]
       ],
       "layout": "IPY_MODEL_4ae2ab2aedb34666adb4789b6c688460"
      }
     },
     "f30005c0374c45f688be26797efc1291": {
      "model_module": "ipysheet",
      "model_module_version": "~0.2.0-beta.1",
      "model_name": "CellRangeModel",
      "state": {
       "_view_module": null,
       "_view_module_version": "",
       "read_only": true,
       "row_end": 2,
       "row_start": 2,
       "type": "numeric",
       "value": 3
      }
     },
     "f7183b0dc8c7424aa2bc6b7250187b3b": {
      "model_module": "ipysheet",
      "model_module_version": "~0.2.0-beta.1",
      "model_name": "SheetModel",
      "state": {
       "cells": [
        "IPY_MODEL_5fb088e599dd41bebbaad9cc64b7f4f8",
        "IPY_MODEL_f02be425b957435896a876b97a3ab70c",
        "IPY_MODEL_7535221f4d23492080e8c0643ed74c52"
       ],
       "data": [
        [
         {
          "options": {
           "format": "0.[000]",
           "style": {},
           "type": "text"
          },
          "value": "Hello"
         },
         {
          "options": {},
          "value": null
         },
         {
          "options": {},
          "value": null
         },
         {
          "options": {},
          "value": null
         }
        ],
        [
         {
          "options": {},
          "value": null
         },
         {
          "options": {},
          "value": null
         },
         {
          "options": {},
          "value": null
         },
         {
          "options": {},
          "value": null
         }
        ],
        [
         {
          "options": {
           "format": "0.[000]",
           "style": {},
           "type": "text"
          },
          "value": "World"
         },
         {
          "options": {},
          "value": null
         },
         {
          "options": {
           "format": "0.[000]",
           "style": {},
           "type": "numeric"
          },
          "value": 42
         },
         {
          "options": {},
          "value": null
         }
        ]
       ],
       "layout": "IPY_MODEL_490579e259eb4ddebc73063f484b9d4c"
      }
     },
     "f84b7ec6c92e44af954267af3b944c7e": {
      "model_module": "ipysheet",
      "model_module_version": "~0.2.0-beta.1",
      "model_name": "CellRangeModel",
      "state": {
       "_view_module": null,
       "_view_module_version": "",
       "row_end": 0,
       "row_start": 0,
       "type": "numeric",
       "value": 1
      }
     },
     "fb8585b8bc564f67878d7640d22e6881": {
      "model_module": "@jupyter-widgets/base",
      "model_module_version": "1.0.0",
      "model_name": "LayoutModel",
      "state": {}
     },
     "fcacd5761f2d403389481bec9c0c1b45": {
      "model_module": "ipysheet",
      "model_module_version": "~0.2.0-beta.1",
      "model_name": "CellRangeModel",
      "state": {
       "_view_module": null,
       "_view_module_version": "",
       "column_end": 3,
       "column_start": 0,
       "renderer": "negative_transpiled",
       "row_end": 2,
       "row_start": 0,
       "squeeze_column": false,
       "squeeze_row": false,
       "type": "numeric",
       "value": [
        [
         7,
         9,
         6,
         -7
        ],
        [
         1,
         9,
         -7,
         3
        ],
        [
         -6,
         8,
         5,
         6
        ]
       ]
      }
     }
    },
    "version_major": 2,
    "version_minor": 0
   }
  }
 },
 "nbformat": 4,
 "nbformat_minor": 2
}
