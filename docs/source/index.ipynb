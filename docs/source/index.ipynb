{
 "cells": [
  {
   "cell_type": "markdown",
   "metadata": {},
   "source": [
    "# Spreadsheet widget for the Jupyter Notebook\n",
    "## Installation\n",
    "\n",
    "With conda:\n",
    "\n",
    "```\n",
    "$ conda install -c conda-forge ipysheet\n",
    "```\n",
    "\n",
    "With pip:\n",
    "\n",
    "```\n",
    "$ pip install ipysheet\n",
    "```\n",
    "\n",
    "To make it work for Jupyter lab:\n",
    "```\n",
    "$ jupyter labextension install ipysheet\n",
    "```\n",
    "\n",
    "If you have notebook 5.2 or below, you also need to execute:\n",
    "```\n",
    "$ jupyter nbextension enable --py --sys-prefix ipysheet\n",
    "```"
   ]
  },
  {
   "cell_type": "markdown",
   "metadata": {},
   "source": [
    "# Getting started\n",
    "Although ipysheet contains an object oriented interface, we recomment using the \"state machine\" based interface, similar to matplotlib's pyplot/pylab interface. Comparible to matplotlib pylab interface, this interface keeps track of the current sheet. Using the [cell](api.rst#ipysheet.easy.cell) function, [Cell](api.rst#ipysheet.sheet.Cell) widgets are added to the current sheet.\n",
    "\n",
    "Importing ipysheet and invoking the [sheet](api.rst#ipysheet.easy.sheet) function will create the default spreadsheet widget. The function returns a [Sheet](api.rst#ipysheet.sheet.Sheet) instance, leaving that expression as a last statement of a code cell will display it, otherwise use `display(sheet)`.\n",
    "\n",
    "Note that this documentation is a Jupyter notebook, and you can try it out directly on Binder:\n",
    "[![Binder](https://mybinder.org/badge.svg)](https://mybinder.org/v2/gh/QuantStack/ipysheet/master?filepath=docs%2Fsource%2Findex.ipynb)"
   ]
  },
  {
   "cell_type": "code",
   "execution_count": 1,
   "metadata": {},
   "outputs": [
    {
     "data": {
      "application/vnd.jupyter.widget-view+json": {
       "model_id": "aefbc5694c834e6c9d5d86696b28c512",
       "version_major": 2,
       "version_minor": 0
      },
      "text/plain": [
       "Sheet(columns=5, layout=Layout(height='auto', width='auto'), rows=5)"
      ]
     },
     "metadata": {},
     "output_type": "display_data"
    }
   ],
   "source": [
    "import ipysheet\n",
    "sheet = ipysheet.sheet()\n",
    "sheet"
   ]
  },
  {
   "cell_type": "markdown",
   "metadata": {},
   "source": [
    "Using the [cell](api.rst#ipysheet.easy.cell) function, we can create [Cell](api.rst#ipysheet.sheet.Cell) widgets that are directly added to the current sheet."
   ]
  },
  {
   "cell_type": "code",
   "execution_count": 2,
   "metadata": {},
   "outputs": [
    {
     "data": {
      "application/vnd.jupyter.widget-view+json": {
       "model_id": "31566bf1ca5a4481ac29df8e2af5c069",
       "version_major": 2,
       "version_minor": 0
      },
      "text/plain": [
       "Sheet(cells=(Cell(column_end=0, column_start=0, row_end=0, row_start=0, type='text', value='Hello'), Cell(colu…"
      ]
     },
     "metadata": {},
     "output_type": "display_data"
    }
   ],
   "source": [
    "sheet = ipysheet.sheet(rows=3, columns=4)\n",
    "cell1 = ipysheet.cell(0, 0, 'Hello')\n",
    "cell2 = ipysheet.cell(2, 0, 'World')\n",
    "cell_value = ipysheet.cell(2,2, 42.)\n",
    "sheet"
   ]
  },
  {
   "cell_type": "markdown",
   "metadata": {},
   "source": [
    "# Events\n",
    "Using link or observe we can link widgets together, or attach event handlers"
   ]
  },
  {
   "cell_type": "markdown",
   "metadata": {
    "raw_mimetype": "text/html"
   },
   "source": [
    "\n",
    "<div class=\"alert alert-warning\">\n",
    "\n",
    "**Note:** The examples below contain event handler written in Python that needs a running kernel, they will not work in the pure html documentation. They do work in binder!\n",
    "\n",
    "</div>\n"
   ]
  },
  {
   "cell_type": "code",
   "execution_count": 3,
   "metadata": {},
   "outputs": [
    {
     "data": {
      "application/vnd.jupyter.widget-view+json": {
       "model_id": "c55becb64db14d5fb42adf386a40d0ef",
       "version_major": 2,
       "version_minor": 0
      },
      "text/plain": [
       "VBox(children=(Sheet(cells=(Cell(column_end=1, column_start=1, row_end=0, row_start=0, type='float', value=1),…"
      ]
     },
     "metadata": {},
     "output_type": "display_data"
    }
   ],
   "source": [
    "import ipywidgets as widgets\n",
    "sheet = ipysheet.sheet(rows=3, columns=2, column_headers=False, row_headers=False)\n",
    "cell_a = ipysheet.cell(0, 1, 1, label_left='a', type='float')\n",
    "cell_b = ipysheet.cell(1, 1, 2, label_left='b', type='float')\n",
    "cell_sum = ipysheet.cell(2, 1, 3, label_left='sum', type='float', read_only=True)\n",
    "\n",
    "# create a slider linked to cell a\n",
    "slider = widgets.FloatSlider(min=-10, max=10, description='a')\n",
    "widgets.jslink((cell_a, 'value'), (slider, 'value'))\n",
    "\n",
    "# changes in a or b should trigger this function\n",
    "def calculate(change):\n",
    "    cell_sum.value = cell_a.value + cell_b.value\n",
    "\n",
    "cell_a.observe(calculate, 'value')\n",
    "cell_b.observe(calculate, 'value')\n",
    "\n",
    "\n",
    "widgets.VBox([sheet, slider])"
   ]
  },
  {
   "cell_type": "markdown",
   "metadata": {},
   "source": [
    "# Cell ranges\n",
    "Instead of referring to a single cell, we can also refer to cell ranges, rows and columns."
   ]
  },
  {
   "cell_type": "code",
   "execution_count": 4,
   "metadata": {},
   "outputs": [
    {
     "data": {
      "application/vnd.jupyter.widget-view+json": {
       "model_id": "b37b8eca5c8848be89723324f2d00cc9",
       "version_major": 2,
       "version_minor": 0
      },
      "text/plain": [
       "Sheet(cells=(Cell(column_end=3, column_start=0, row_end=0, row_start=0, squeeze_column=False, style={'backgrou…"
      ]
     },
     "metadata": {},
     "output_type": "display_data"
    }
   ],
   "source": [
    "sheet = ipysheet.sheet(rows=5, columns=4)\n",
    "row = ipysheet.row(0, [0, 1, 2, 3], background_color=\"red\")\n",
    "column = ipysheet.column(1, [\"a\", \"b\", \"c\", \"d\"], row_start=1, background_color=\"green\")\n",
    "cells = ipysheet.cell_range([[\"hi\", \"ola\"], [\"ciao\", \"bonjour\"], [\"hallo\", \"guten tag\"]],\n",
    "                            row_start=1, column_start=2, background_color=\"yellow\")\n",
    "sheet\n"
   ]
  },
  {
   "cell_type": "markdown",
   "metadata": {},
   "source": [
    "## Calculations\n",
    "Since this is such a common pattern, a helper decorator [calculation](api.rst#ipysheet.easy.calculation) is provided, shortening the above code considerably."
   ]
  },
  {
   "cell_type": "code",
   "execution_count": 5,
   "metadata": {},
   "outputs": [
    {
     "data": {
      "application/vnd.jupyter.widget-view+json": {
       "model_id": "6ee23e4789234a5ea9649db94c533a38",
       "version_major": 2,
       "version_minor": 0
      },
      "text/plain": [
       "VBox(children=(Sheet(cells=(Cell(column_end=1, column_start=1, row_end=0, row_start=0, type='int', value=1), C…"
      ]
     },
     "metadata": {},
     "output_type": "display_data"
    }
   ],
   "source": [
    "import ipywidgets as widgets\n",
    "sheet = ipysheet.sheet(rows=3, columns=2, column_headers=False, row_headers=False)\n",
    "cell_a = ipysheet.cell(0, 1, 1, label_left='a')\n",
    "cell_b = ipysheet.cell(1, 1, 2, label_left='b')\n",
    "cell_sum = ipysheet.cell(2, 1, 3, label_left='sum', read_only=True)\n",
    "\n",
    "# create a slider linked to cell a\n",
    "slider = widgets.IntSlider(min=-10, max=10, description='a')\n",
    "widgets.jslink((cell_a, 'value'), (slider, 'value'))\n",
    "\n",
    "@ipysheet.calculation(inputs=[cell_a, cell_b], output=cell_sum)\n",
    "def calculate(a, b):\n",
    "    return a + b\n",
    "\n",
    "widgets.VBox([sheet, slider])"
   ]
  },
  {
   "cell_type": "markdown",
   "metadata": {},
   "source": [
    "# Renderers\n",
    "ipysheet is build on Handsontable, which allows [custom renderers](https://docs.handsontable.com/demo-custom-renderers.html), which we also support."
   ]
  },
  {
   "cell_type": "code",
   "execution_count": 6,
   "metadata": {},
   "outputs": [],
   "source": [
    "jscode_renderer_negative = \"\"\"function (value) {\n",
    "  return {\n",
    "    backgroundColor: value < 0 ?  'red' : 'green'\n",
    "  };\n",
    "}\n",
    "\"\"\"\n",
    "ipysheet.renderer(code=jscode_renderer_negative, name='negative');"
   ]
  },
  {
   "cell_type": "code",
   "execution_count": 7,
   "metadata": {},
   "outputs": [
    {
     "data": {
      "application/vnd.jupyter.widget-view+json": {
       "model_id": "5329d60e41b14391a3a20b8eb324d8f7",
       "version_major": 2,
       "version_minor": 0
      },
      "text/plain": [
       "Sheet(cells=(Cell(column_end=3, column_start=0, renderer='negative', row_end=2, row_start=0, squeeze_column=Fa…"
      ]
     },
     "metadata": {},
     "output_type": "display_data"
    }
   ],
   "source": [
    "import random\n",
    "s = ipysheet.sheet(rows=3, columns=4)\n",
    "data = [[random.randint(-10, 10) for j in range(4)] for j in range(3)]\n",
    "ipysheet.cell_range(data, renderer='negative')\n",
    "s"
   ]
  },
  {
   "cell_type": "markdown",
   "metadata": {},
   "source": [
    "Custom renderers can be JavaScript functions as well as Python functions that returns the cell style"
   ]
  },
  {
   "cell_type": "code",
   "execution_count": 8,
   "metadata": {},
   "outputs": [],
   "source": [
    "def renderer_negative(value):\n",
    "    return {\n",
    "        'backgroundColor': 'orange' if value < 0 else ''\n",
    "    }\n",
    "ipysheet.renderer(code=renderer_negative, name='negative_transpiled');"
   ]
  },
  {
   "cell_type": "code",
   "execution_count": 9,
   "metadata": {},
   "outputs": [
    {
     "data": {
      "application/vnd.jupyter.widget-view+json": {
       "model_id": "2c8599283f5d4347895b95d24b887d47",
       "version_major": 2,
       "version_minor": 0
      },
      "text/plain": [
       "Sheet(cells=(Cell(column_end=3, column_start=0, renderer='negative_transpiled', row_end=2, row_start=0, squeez…"
      ]
     },
     "metadata": {},
     "output_type": "display_data"
    }
   ],
   "source": [
    "import random\n",
    "s = ipysheet.sheet(rows=3, columns=4)\n",
    "data = [[random.randint(-10, 10) for j in range(4)] for j in range(3)]\n",
    "ipysheet.cell_range(data, renderer='negative_transpiled')\n",
    "s"
   ]
  },
  {
   "cell_type": "markdown",
   "metadata": {
    "nbsphinx-toctree": {}
   },
   "source": [
    "[api](api.rst)"
   ]
  }
 ],
 "metadata": {
  "celltoolbar": "Raw Cell Format",
  "kernelspec": {
   "display_name": "Python 3",
   "language": "python",
   "name": "python3"
  },
  "language_info": {
   "codemirror_mode": {
    "name": "ipython",
    "version": 3
   },
   "file_extension": ".py",
   "mimetype": "text/x-python",
   "name": "python",
   "nbconvert_exporter": "python",
   "pygments_lexer": "ipython3",
   "version": "3.7.3"
  },
  "widgets": {
   "application/vnd.jupyter.widget-state+json": {
    "state": {
     "02cee59ebef44b7cabddc13e7250526c": {
      "model_module": "@jupyter-widgets/controls",
      "model_module_version": "1.4.0",
      "model_name": "IntSliderModel",
      "state": {
       "description": "a",
       "layout": "IPY_MODEL_b1c054ac2a1340fb9200c5f16af5323e",
       "max": 10,
       "min": -10,
       "style": "IPY_MODEL_d11ccb31354249589dd350497d7c0779",
       "value": 1
      }
     },
     "136070030dee469a91c0b5f86f8a744b": {
      "model_module": "@jupyter-widgets/base",
      "model_module_version": "1.1.0",
      "model_name": "LayoutModel",
      "state": {}
     },
     "1690d5f265784d0094c7492f9c9436d3": {
      "model_module": "ipysheet",
      "model_module_version": "~0.4.1",
      "model_name": "CellRangeModel",
      "state": {
       "_view_module": null,
       "_view_module_version": "",
       "type": "float",
       "value": 2
      }
     },
     "1f20ca8577d64f409dda17d6c6f0c303": {
      "model_module": "ipysheet",
      "model_module_version": "~0.4.1",
      "model_name": "CellRangeModel",
      "state": {
       "_view_module": null,
       "_view_module_version": "",
       "column_end": 2,
       "column_start": 2,
       "row_end": 2,
       "row_start": 2,
       "type": "float",
       "value": 42
      }
     },
     "2911b30eab6941e7beb2ed6060e96c99": {
      "model_module": "ipysheet",
      "model_module_version": "~0.4.1",
      "model_name": "CellRangeModel",
      "state": {
       "_view_module": null,
       "_view_module_version": "",
       "type": "int",
       "value": 2
      }
     },
     "2c8599283f5d4347895b95d24b887d47": {
      "model_module": "ipysheet",
      "model_module_version": "~0.4.1",
      "model_name": "SheetModel",
      "state": {
       "cells": [
        "IPY_MODEL_4855a741aca94869be3e526e3cdc5a25"
       ],
       "layout": "IPY_MODEL_5e79886cd1b844c28b880b373887d745"
      }
     },
     "31566bf1ca5a4481ac29df8e2af5c069": {
      "model_module": "ipysheet",
      "model_module_version": "~0.4.1",
      "model_name": "SheetModel",
      "state": {
       "cells": [
        "IPY_MODEL_ba619725ce96426ead50b7d9321b08f6",
        "IPY_MODEL_96446474f82e4e6897772b1550e865d2",
        "IPY_MODEL_1f20ca8577d64f409dda17d6c6f0c303"
       ],
       "layout": "IPY_MODEL_3bee1706c9d6466191ddc6b9eeaaec12"
      }
     },
     "360ed33dd47241bebf26dd5366c808e5": {
      "model_module": "ipysheet",
      "model_module_version": "~0.4.1",
      "model_name": "CellRangeModel",
      "state": {
       "_view_module": null,
       "_view_module_version": "",
       "column_end": 3,
       "column_start": 0,
       "renderer": "negative",
       "row_end": 2,
       "row_start": 0,
       "squeeze_column": false,
       "squeeze_row": false,
       "type": "int",
       "value": [
        [
         8,
         0,
         -3,
         0
        ],
        [
         -1,
         -7,
         -3,
         7
        ],
        [
         -7,
         -6,
         8,
         -1
        ]
       ]
      }
     },
     "3633f20c839f443d9b0ebfb984473975": {
      "model_module": "@jupyter-widgets/controls",
      "model_module_version": "1.4.0",
      "model_name": "LinkModel",
      "state": {
       "source": [
        "IPY_MODEL_60fbd1008b794878947bf8d72afa9935",
        "value"
       ],
       "target": [
        "IPY_MODEL_e8882d237be147c190d87e8fb3564121",
        "value"
       ]
      }
     },
     "3b08b671e1014d3f99544a4b180cbce4": {
      "model_module": "ipysheet",
      "model_module_version": "~0.4.1",
      "model_name": "CellRangeModel",
      "state": {
       "_view_module": null,
       "_view_module_version": "",
       "column_end": 0,
       "column_start": 0,
       "row_end": 2,
       "row_start": 2,
       "style": {
        "fontWeight": "bold"
       },
       "type": "text",
       "value": "sum"
      }
     },
     "3bee1706c9d6466191ddc6b9eeaaec12": {
      "model_module": "@jupyter-widgets/base",
      "model_module_version": "1.1.0",
      "model_name": "LayoutModel",
      "state": {
       "height": "auto",
       "width": "auto"
      }
     },
     "4855a741aca94869be3e526e3cdc5a25": {
      "model_module": "ipysheet",
      "model_module_version": "~0.4.1",
      "model_name": "CellRangeModel",
      "state": {
       "_view_module": null,
       "_view_module_version": "",
       "column_end": 3,
       "column_start": 0,
       "renderer": "negative_transpiled",
       "row_end": 2,
       "row_start": 0,
       "squeeze_column": false,
       "squeeze_row": false,
       "type": "int",
       "value": [
        [
         1,
         2,
         -4,
         10
        ],
        [
         -3,
         5,
         4,
         10
        ],
        [
         4,
         8,
         -4,
         7
        ]
       ]
      }
     },
     "51ebae69061f4846816261b35ae62b32": {
      "model_module": "ipysheet",
      "model_module_version": "~0.4.1",
      "model_name": "SheetModel",
      "state": {
       "cells": [
        "IPY_MODEL_60fbd1008b794878947bf8d72afa9935",
        "IPY_MODEL_f1ae488f0a9245938c107a68dcf959bd",
        "IPY_MODEL_1690d5f265784d0094c7492f9c9436d3",
        "IPY_MODEL_67a73ba0f1fd4a37a880c53e112881f2",
        "IPY_MODEL_6123f60effa2498a86dd1c84adee9427",
        "IPY_MODEL_3b08b671e1014d3f99544a4b180cbce4"
       ],
       "column_headers": false,
       "columns": 2,
       "layout": "IPY_MODEL_a85ee3116fdc4c698343192143b2b421",
       "row_headers": false
      }
     },
     "5329d60e41b14391a3a20b8eb324d8f7": {
      "model_module": "ipysheet",
      "model_module_version": "~0.4.1",
      "model_name": "SheetModel",
      "state": {
       "cells": [
        "IPY_MODEL_360ed33dd47241bebf26dd5366c808e5"
       ],
       "layout": "IPY_MODEL_b3cdf33d93784df695183e0fe55efe3e"
      }
     },
     "54da9a994bfb4769aa3d680fa70d34ac": {
      "model_module": "ipysheet",
      "model_module_version": "~0.4.1",
      "model_name": "CellRangeModel",
      "state": {
       "_view_module": null,
       "_view_module_version": "",
       "column_end": 0,
       "column_start": 0,
       "row_end": 2,
       "row_start": 2,
       "style": {
        "fontWeight": "bold"
       },
       "type": "text",
       "value": "sum"
      }
     },
     "567b271aa9b54533a75d50c63da111f5": {
      "model_module": "@jupyter-widgets/controls",
      "model_module_version": "1.4.0",
      "model_name": "SliderStyleModel",
      "state": {
       "description_width": ""
      }
     },
     "5902bfe2b33b44dda27c63383745a6b8": {
      "model_module": "ipysheet",
      "model_module_version": "~0.4.1",
      "model_name": "CellRangeModel",
      "state": {
       "_view_module": null,
       "_view_module_version": "",
       "row_end": 4,
       "squeeze_row": false,
       "style": {
        "backgroundColor": "green"
       },
       "type": "text",
       "value": [
        "a",
        "b",
        "c",
        "d"
       ]
      }
     },
     "5e79886cd1b844c28b880b373887d745": {
      "model_module": "@jupyter-widgets/base",
      "model_module_version": "1.1.0",
      "model_name": "LayoutModel",
      "state": {
       "height": "auto",
       "width": "auto"
      }
     },
     "60fbd1008b794878947bf8d72afa9935": {
      "model_module": "ipysheet",
      "model_module_version": "~0.4.1",
      "model_name": "CellRangeModel",
      "state": {
       "_view_module": null,
       "_view_module_version": "",
       "row_end": 0,
       "row_start": 0,
       "type": "float",
       "value": 1
      }
     },
     "6123f60effa2498a86dd1c84adee9427": {
      "model_module": "ipysheet",
      "model_module_version": "~0.4.1",
      "model_name": "CellRangeModel",
      "state": {
       "_view_module": null,
       "_view_module_version": "",
       "read_only": true,
       "row_end": 2,
       "row_start": 2,
       "type": "float",
       "value": 3
      }
     },
     "67a73ba0f1fd4a37a880c53e112881f2": {
      "model_module": "ipysheet",
      "model_module_version": "~0.4.1",
      "model_name": "CellRangeModel",
      "state": {
       "_view_module": null,
       "_view_module_version": "",
       "column_end": 0,
       "column_start": 0,
       "style": {
        "fontWeight": "bold"
       },
       "type": "text",
       "value": "b"
      }
     },
     "6ee23e4789234a5ea9649db94c533a38": {
      "model_module": "@jupyter-widgets/controls",
      "model_module_version": "1.4.0",
      "model_name": "VBoxModel",
      "state": {
       "children": [
        "IPY_MODEL_983bf4f9d45c4e3281bb704cbf3c1491",
        "IPY_MODEL_02cee59ebef44b7cabddc13e7250526c"
       ],
       "layout": "IPY_MODEL_77f6caae156442808f7121e594c518af"
      }
     },
     "77f6caae156442808f7121e594c518af": {
      "model_module": "@jupyter-widgets/base",
      "model_module_version": "1.1.0",
      "model_name": "LayoutModel",
      "state": {}
     },
     "81a7727c6d0b456894342fa8b619a56a": {
      "model_module": "ipysheet",
      "model_module_version": "~0.4.1",
      "model_name": "RendererModel",
      "state": {
       "_view_module": "ipysheet",
       "_view_module_version": "~0.4.1",
       "code": "function (value) {\n  return {\n    backgroundColor: value < 0 ?  'red' : 'green'\n  };\n}\n",
       "name": "negative"
      }
     },
     "86e297200d5c4ab6a6576545c6bafea5": {
      "model_module": "ipysheet",
      "model_module_version": "~0.4.1",
      "model_name": "CellRangeModel",
      "state": {
       "_view_module": null,
       "_view_module_version": "",
       "read_only": true,
       "row_end": 2,
       "row_start": 2,
       "type": "int",
       "value": 3
      }
     },
     "96446474f82e4e6897772b1550e865d2": {
      "model_module": "ipysheet",
      "model_module_version": "~0.4.1",
      "model_name": "CellRangeModel",
      "state": {
       "_view_module": null,
       "_view_module_version": "",
       "column_end": 0,
       "column_start": 0,
       "row_end": 2,
       "row_start": 2,
       "type": "text",
       "value": "World"
      }
     },
     "983bf4f9d45c4e3281bb704cbf3c1491": {
      "model_module": "ipysheet",
      "model_module_version": "~0.4.1",
      "model_name": "SheetModel",
      "state": {
       "cells": [
        "IPY_MODEL_d46df184a60c4a67a4e6147de0d75f54",
        "IPY_MODEL_e665dc60260d43029ff6c9f009bc71ca",
        "IPY_MODEL_2911b30eab6941e7beb2ed6060e96c99",
        "IPY_MODEL_bcbafc1b29b749ba809ce88c98e382e7",
        "IPY_MODEL_86e297200d5c4ab6a6576545c6bafea5",
        "IPY_MODEL_54da9a994bfb4769aa3d680fa70d34ac"
       ],
       "column_headers": false,
       "columns": 2,
       "layout": "IPY_MODEL_e755bf96293344d6b58f964663157da8",
       "row_headers": false
      }
     },
     "a85ee3116fdc4c698343192143b2b421": {
      "model_module": "@jupyter-widgets/base",
      "model_module_version": "1.1.0",
      "model_name": "LayoutModel",
      "state": {
       "height": "auto",
       "width": "auto"
      }
     },
     "ad9f1c5a27414203996ec7d5d9ae696b": {
      "model_module": "ipysheet",
      "model_module_version": "~0.4.1",
      "model_name": "RendererModel",
      "state": {
       "_view_module": "ipysheet",
       "_view_module_version": "~0.4.1",
       "code": "\nfunction() {\n                  var the_renderer;\n                the_renderer = function flx_the_renderer (value) {\n                    return ({backgroundColor: ((value < 0))? (\"orange\") : (\"\")});\n                };\n\n  return the_renderer\n\n}()\n",
       "name": "negative_transpiled"
      }
     },
     "aefbc5694c834e6c9d5d86696b28c512": {
      "model_module": "ipysheet",
      "model_module_version": "~0.4.1",
      "model_name": "SheetModel",
      "state": {
       "columns": 5,
       "layout": "IPY_MODEL_d377c608b55842f4b97ee5ed2ac0815c",
       "rows": 5
      }
     },
     "b1c054ac2a1340fb9200c5f16af5323e": {
      "model_module": "@jupyter-widgets/base",
      "model_module_version": "1.1.0",
      "model_name": "LayoutModel",
      "state": {}
     },
     "b33250fe84c84ed4adc564398824e817": {
      "model_module": "@jupyter-widgets/base",
      "model_module_version": "1.1.0",
      "model_name": "LayoutModel",
      "state": {
       "height": "auto",
       "width": "auto"
      }
     },
     "b37b8eca5c8848be89723324f2d00cc9": {
      "model_module": "ipysheet",
      "model_module_version": "~0.4.1",
      "model_name": "SheetModel",
      "state": {
       "cells": [
        "IPY_MODEL_cf3f654a13ac44a480f482b9c7255d5b",
        "IPY_MODEL_5902bfe2b33b44dda27c63383745a6b8",
        "IPY_MODEL_b5f0019090854f9eb8b09fc43c10f91a"
       ],
       "layout": "IPY_MODEL_b33250fe84c84ed4adc564398824e817",
       "rows": 5
      }
     },
     "b3cdf33d93784df695183e0fe55efe3e": {
      "model_module": "@jupyter-widgets/base",
      "model_module_version": "1.1.0",
      "model_name": "LayoutModel",
      "state": {
       "height": "auto",
       "width": "auto"
      }
     },
     "b5f0019090854f9eb8b09fc43c10f91a": {
      "model_module": "ipysheet",
      "model_module_version": "~0.4.1",
      "model_name": "CellRangeModel",
      "state": {
       "_view_module": null,
       "_view_module_version": "",
       "column_end": 3,
       "column_start": 2,
       "row_end": 3,
       "squeeze_column": false,
       "squeeze_row": false,
       "style": {
        "backgroundColor": "yellow"
       },
       "type": "text",
       "value": [
        [
         "hi",
         "ola"
        ],
        [
         "ciao",
         "bonjour"
        ],
        [
         "hallo",
         "guten tag"
        ]
       ]
      }
     },
     "ba619725ce96426ead50b7d9321b08f6": {
      "model_module": "ipysheet",
      "model_module_version": "~0.4.1",
      "model_name": "CellRangeModel",
      "state": {
       "_view_module": null,
       "_view_module_version": "",
       "column_end": 0,
       "column_start": 0,
       "row_end": 0,
       "row_start": 0,
       "type": "text",
       "value": "Hello"
      }
     },
     "bcbafc1b29b749ba809ce88c98e382e7": {
      "model_module": "ipysheet",
      "model_module_version": "~0.4.1",
      "model_name": "CellRangeModel",
      "state": {
       "_view_module": null,
       "_view_module_version": "",
       "column_end": 0,
       "column_start": 0,
       "style": {
        "fontWeight": "bold"
       },
       "type": "text",
       "value": "b"
      }
     },
     "bf2fa263e1044e1eb082865be4d25eca": {
      "model_module": "@jupyter-widgets/base",
      "model_module_version": "1.1.0",
      "model_name": "LayoutModel",
      "state": {}
     },
     "c55becb64db14d5fb42adf386a40d0ef": {
      "model_module": "@jupyter-widgets/controls",
      "model_module_version": "1.4.0",
      "model_name": "VBoxModel",
      "state": {
       "children": [
        "IPY_MODEL_51ebae69061f4846816261b35ae62b32",
        "IPY_MODEL_e8882d237be147c190d87e8fb3564121"
       ],
       "layout": "IPY_MODEL_bf2fa263e1044e1eb082865be4d25eca"
      }
     },
     "cf3f654a13ac44a480f482b9c7255d5b": {
      "model_module": "ipysheet",
      "model_module_version": "~0.4.1",
      "model_name": "CellRangeModel",
      "state": {
       "_view_module": null,
       "_view_module_version": "",
       "column_end": 3,
       "column_start": 0,
       "row_end": 0,
       "row_start": 0,
       "squeeze_column": false,
       "style": {
        "backgroundColor": "red"
       },
       "type": "int",
       "value": [
        0,
        1,
        2,
        3
       ]
      }
     },
     "d11ccb31354249589dd350497d7c0779": {
      "model_module": "@jupyter-widgets/controls",
      "model_module_version": "1.4.0",
      "model_name": "SliderStyleModel",
      "state": {
       "description_width": ""
      }
     },
     "d377c608b55842f4b97ee5ed2ac0815c": {
      "model_module": "@jupyter-widgets/base",
      "model_module_version": "1.1.0",
      "model_name": "LayoutModel",
      "state": {
       "height": "auto",
       "width": "auto"
      }
     },
     "d46df184a60c4a67a4e6147de0d75f54": {
      "model_module": "ipysheet",
      "model_module_version": "~0.4.1",
      "model_name": "CellRangeModel",
      "state": {
       "_view_module": null,
       "_view_module_version": "",
       "row_end": 0,
       "row_start": 0,
       "type": "int",
       "value": 1
      }
     },
     "e665dc60260d43029ff6c9f009bc71ca": {
      "model_module": "ipysheet",
      "model_module_version": "~0.4.1",
      "model_name": "CellRangeModel",
      "state": {
       "_view_module": null,
       "_view_module_version": "",
       "column_end": 0,
       "column_start": 0,
       "row_end": 0,
       "row_start": 0,
       "style": {
        "fontWeight": "bold"
       },
       "type": "text",
       "value": "a"
      }
     },
     "e755bf96293344d6b58f964663157da8": {
      "model_module": "@jupyter-widgets/base",
      "model_module_version": "1.1.0",
      "model_name": "LayoutModel",
      "state": {
       "height": "auto",
       "width": "auto"
      }
     },
     "e8882d237be147c190d87e8fb3564121": {
      "model_module": "@jupyter-widgets/controls",
      "model_module_version": "1.4.0",
      "model_name": "FloatSliderModel",
      "state": {
       "description": "a",
       "layout": "IPY_MODEL_136070030dee469a91c0b5f86f8a744b",
       "max": 10,
       "min": -10,
       "step": 0.1,
       "style": "IPY_MODEL_567b271aa9b54533a75d50c63da111f5",
       "value": 1
      }
     },
     "eeed7f4571194d48a2af3c241722653a": {
      "model_module": "@jupyter-widgets/controls",
      "model_module_version": "1.4.0",
      "model_name": "LinkModel",
      "state": {
       "source": [
        "IPY_MODEL_d46df184a60c4a67a4e6147de0d75f54",
        "value"
       ],
       "target": [
        "IPY_MODEL_02cee59ebef44b7cabddc13e7250526c",
        "value"
       ]
      }
     },
     "f1ae488f0a9245938c107a68dcf959bd": {
      "model_module": "ipysheet",
      "model_module_version": "~0.4.1",
      "model_name": "CellRangeModel",
      "state": {
       "_view_module": null,
       "_view_module_version": "",
       "column_end": 0,
       "column_start": 0,
       "row_end": 0,
       "row_start": 0,
       "style": {
        "fontWeight": "bold"
       },
       "type": "text",
       "value": "a"
      }
     }
    },
    "version_major": 2,
    "version_minor": 0
   }
  }
 },
 "nbformat": 4,
 "nbformat_minor": 2
}
