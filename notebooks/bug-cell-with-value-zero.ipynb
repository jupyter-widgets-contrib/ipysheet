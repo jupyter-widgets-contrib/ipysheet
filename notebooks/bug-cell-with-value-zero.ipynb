{
 "cells": [
  {
   "cell_type": "code",
   "execution_count": 1,
   "metadata": {},
   "outputs": [],
   "source": [
    "import ipysheet"
   ]
  },
  {
   "cell_type": "code",
   "execution_count": 7,
   "metadata": {},
   "outputs": [
    {
     "data": {
      "application/vnd.jupyter.widget-view+json": {
       "model_id": "35c0e1738f3941098ee08e1cdef36cda",
       "version_major": 2,
       "version_minor": 0
      },
      "text/plain": [
       "Sheet(cells=(Cell(column_end=1, column_start=1, format='0.00', row_end=1, row_start=1, style={'backgroundColor…"
      ]
     },
     "metadata": {},
     "output_type": "display_data"
    }
   ],
   "source": [
    "sheet = ipysheet.sheet()\n",
    "cell1 = ipysheet.cell(1, 1, 15.9, format='0.00', type='numeric', style={'backgroundColor': '#A8DADC'})\n",
    "cell2 = ipysheet.cell(1, 0, 22.2, type='text',  style={'backgroundColor': '#A8DADC'})\n",
    "cell3 = ipysheet.cell(0, 1, 0.005*0, format='0.000', type='numeric', style={'backgroundColor': '#A8DADC'})\n",
    "cell4 = ipysheet.cell(0, 0, 0, format='0.0', type='numeric', style={'backgroundColor': '#A8DADC'})\n",
    "cell5 = ipysheet.cell(2, 2, 0, style={'backgroundColor': '#A8D'})\n",
    "\n",
    "sheet"
   ]
  },
  {
   "cell_type": "code",
   "execution_count": 3,
   "metadata": {},
   "outputs": [
    {
     "name": "stdout",
     "output_type": "stream",
     "text": [
      "15.9\n",
      "22.2\n",
      "0.0\n",
      "0\n"
     ]
    }
   ],
   "source": [
    "print(cell1.value)\n",
    "print(cell2.value)\n",
    "print(cell3.value)\n",
    "print(cell4.value)\n"
   ]
  },
  {
   "cell_type": "code",
   "execution_count": 4,
   "metadata": {},
   "outputs": [
    {
     "data": {
      "text/plain": [
       "15.9"
      ]
     },
     "execution_count": 4,
     "metadata": {},
     "output_type": "execute_result"
    }
   ],
   "source": [
    "cell1.value"
   ]
  },
  {
   "cell_type": "code",
   "execution_count": null,
   "metadata": {},
   "outputs": [],
   "source": []
  }
 ],
 "metadata": {
  "kernelspec": {
   "display_name": "Python 3",
   "language": "python",
   "name": "python3"
  },
  "language_info": {
   "codemirror_mode": {
    "name": "ipython",
    "version": 3
   },
   "file_extension": ".py",
   "mimetype": "text/x-python",
   "name": "python",
   "nbconvert_exporter": "python",
   "pygments_lexer": "ipython3",
   "version": "3.6.1"
  }
 },
 "nbformat": 4,
 "nbformat_minor": 2
}
