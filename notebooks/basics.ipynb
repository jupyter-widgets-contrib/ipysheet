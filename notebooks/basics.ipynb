{
 "cells": [
  {
   "cell_type": "code",
   "execution_count": 1,
   "metadata": {},
   "outputs": [],
   "source": [
    "import ipysheet\n",
    "import ipywidgets as widgets"
   ]
  },
  {
   "cell_type": "code",
   "execution_count": 2,
   "metadata": {},
   "outputs": [
    {
     "data": {
      "application/vnd.jupyter.widget-view+json": {
       "model_id": "bb87cdd298b64d2db3c296e61ece9d25",
       "version_major": 2,
       "version_minor": 0
      },
      "text/plain": [
       "Sheet(data=[[]])"
      ]
     },
     "metadata": {},
     "output_type": "display_data"
    }
   ],
   "source": [
    "# create a sheet\n",
    "sheet = ipysheet.sheet(rows=3, columns=4, row_headers=True)\n",
    "# and 'print' it out, or use IPython.display.display(sheet)\n",
    "sheet"
   ]
  },
  {
   "cell_type": "code",
   "execution_count": 3,
   "metadata": {},
   "outputs": [],
   "source": [
    "# the sheets appearence can be changed\n",
    "sheet.stretch_headers = 'none'\n",
    "sheet.column_width = [100, 200]"
   ]
  },
  {
   "cell_type": "code",
   "execution_count": 4,
   "metadata": {},
   "outputs": [],
   "source": [
    "sheet.column_width = None"
   ]
  },
  {
   "cell_type": "code",
   "execution_count": 5,
   "metadata": {},
   "outputs": [],
   "source": [
    "sheet.column_headers = ['0', '1', '2', 'xyz']\n",
    "sheet.row_headers = ['x', 'y', '']"
   ]
  },
  {
   "cell_type": "code",
   "execution_count": 6,
   "metadata": {},
   "outputs": [],
   "source": [
    "# a cell refers to a particular cell in the sheet\n",
    "cell = ipysheet.cell(0,0, 'hello', background_color='red')"
   ]
  },
  {
   "cell_type": "code",
   "execution_count": 7,
   "metadata": {},
   "outputs": [],
   "source": [
    "# changing its value, the sheet will be updated\n",
    "cell.value = 20"
   ]
  },
  {
   "cell_type": "code",
   "execution_count": 8,
   "metadata": {},
   "outputs": [],
   "source": [
    "# Handsontable's type, sets the renderer, validator, etc\n",
    "cell.type = 'numeric'"
   ]
  },
  {
   "cell_type": "code",
   "execution_count": 9,
   "metadata": {},
   "outputs": [],
   "source": [
    "# For numerical type, the format can be usefull\n",
    "cell.format = '0.000'"
   ]
  },
  {
   "cell_type": "code",
   "execution_count": 10,
   "metadata": {},
   "outputs": [],
   "source": [
    "cell.value = 10.123"
   ]
  },
  {
   "cell_type": "code",
   "execution_count": 11,
   "metadata": {},
   "outputs": [],
   "source": [
    "# Using the ipywidget's (rather traitlets) observe method, we can \n",
    "# listen to changes in one cell, and set another cell's value\n",
    "cell2 = ipysheet.cell(1,0, 999, type='numeric', read_only=True)\n",
    "def changed(change):\n",
    "    print(\"changed from\", change.old, \"to\", change.new)\n",
    "    cell2.value = cell.value * 2\n",
    "cell.observe(changed, 'value')"
   ]
  },
  {
   "cell_type": "code",
   "execution_count": 12,
   "metadata": {},
   "outputs": [
    {
     "name": "stdout",
     "output_type": "stream",
     "text": [
      "changed from 10.123 to 20\n"
     ]
    }
   ],
   "source": [
    "cell.value = 20"
   ]
  },
  {
   "cell_type": "code",
   "execution_count": 13,
   "metadata": {},
   "outputs": [
    {
     "name": "stdout",
     "output_type": "stream",
     "text": [
      "changed from 20 to 1\n"
     ]
    }
   ],
   "source": [
    "cell.value = 1"
   ]
  },
  {
   "cell_type": "code",
   "execution_count": 14,
   "metadata": {},
   "outputs": [],
   "source": [
    "cell3 = ipysheet.cell(0, 2, 'true', type='checkbox', style={'textAlign': 'center'})"
   ]
  },
  {
   "cell_type": "code",
   "execution_count": 15,
   "metadata": {},
   "outputs": [
    {
     "data": {
      "text/plain": [
       "'true'"
      ]
     },
     "execution_count": 15,
     "metadata": {},
     "output_type": "execute_result"
    }
   ],
   "source": [
    "cell3.value"
   ]
  },
  {
   "cell_type": "code",
   "execution_count": 28,
   "metadata": {},
   "outputs": [],
   "source": [
    "cell3.value = 'true'"
   ]
  },
  {
   "cell_type": "code",
   "execution_count": 17,
   "metadata": {},
   "outputs": [
    {
     "data": {
      "application/vnd.jupyter.widget-view+json": {
       "model_id": "04dce4db47964bcebf6d672d18c1dc49",
       "version_major": 2,
       "version_minor": 0
      },
      "text/plain": [
       "Sheet(cells=(Cell(column_end=0, column_start=0, format='0.000', row_end=0, row_start=0, style={'backgroundColo…"
      ]
     },
     "metadata": {},
     "output_type": "display_data"
    }
   ],
   "source": [
    "# a sheet can have multiple views\n",
    "sheet"
   ]
  },
  {
   "cell_type": "code",
   "execution_count": 29,
   "metadata": {},
   "outputs": [],
   "source": [
    "# Using the style attribute, we can change the css properties\n",
    "# This may change for phase 2\n",
    "cell.style = {'backgroundColor': 'lightblue', 'fontWeight':'bold'}"
   ]
  },
  {
   "cell_type": "code",
   "execution_count": 19,
   "metadata": {},
   "outputs": [
    {
     "data": {
      "text/plain": [
       "1"
      ]
     },
     "execution_count": 19,
     "metadata": {},
     "output_type": "execute_result"
    }
   ],
   "source": [
    "cell.value"
   ]
  },
  {
   "cell_type": "code",
   "execution_count": 20,
   "metadata": {},
   "outputs": [],
   "source": [
    "sheet.column_headers = False"
   ]
  },
  {
   "cell_type": "code",
   "execution_count": 21,
   "metadata": {},
   "outputs": [
    {
     "data": {
      "application/vnd.jupyter.widget-view+json": {
       "model_id": "bb1a9bf2b8a449faad1e240fda6ea931",
       "version_major": 2,
       "version_minor": 0
      },
      "text/html": [
       "<p>Failed to display Jupyter Widget of type <code>Sheet</code>.</p>\n",
       "<p>\n",
       "  If you're reading this message in the Jupyter Notebook or JupyterLab Notebook, it may mean\n",
       "  that the widgets JavaScript is still loading. If this message persists, it\n",
       "  likely means that the widgets JavaScript library is either not installed or\n",
       "  not enabled. See the <a href=\"https://ipywidgets.readthedocs.io/en/stable/user_install.html\">Jupyter\n",
       "  Widgets Documentation</a> for setup instructions.\n",
       "</p>\n",
       "<p>\n",
       "  If you're reading this message in another frontend (for example, a static\n",
       "  rendering on GitHub or <a href=\"https://nbviewer.jupyter.org/\">NBViewer</a>),\n",
       "  it may mean that your frontend doesn't currently support widgets.\n",
       "</p>\n"
      ],
      "text/plain": [
       "Sheet(cells=(Cell(column_end=1, column_start=1, row_end=0, row_start=0, style={'color': 'green'}, type='numeric', value=2), Cell(column_end=0, column_start=0, row_end=0, row_start=0, style={'fontWeight': 'bold'}, type='text', value='a'), Cell(column_end=1, column_start=1, row_end=1, row_start=1, style={'color': 'blue'}, type='numeric', value=3), Cell(column_end=0, column_start=0, row_end=1, row_start=1, style={'fontWeight': 'bold'}, type='text', value='b'), Cell(column_end=1, column_start=1, row_end=2, row_start=2, style={'backgroundColor': 'orange'}, type='numeric', value=5), Cell(column_end=0, column_start=0, row_end=2, row_start=2, style={'fontWeight': 'bold'}, type='text', value='sum')), column_headers=False, columns=2, data=[[]], row_headers=False)"
      ]
     },
     "metadata": {},
     "output_type": "display_data"
    }
   ],
   "source": [
    "# a new sheet\n",
    "s = ipysheet.sheet(rows=3, columns=2, row_headers=False, column_headers=False)\n",
    "\n",
    "a = ipysheet.cell(0,1, 2, color='green', label_left='a')\n",
    "b = ipysheet.cell(1,1, 3, color='blue', label_left='b')\n",
    "c = ipysheet.cell(2,1, 99, background_color='orange', label_left='sum')\n",
    "\n",
    "# using the calculation decorator, it's easier to connect input and output\n",
    "# cells\n",
    "@ipysheet.calculation(inputs=[a,b], output=c)\n",
    "def sum(a, b):\n",
    "    return a+b\n",
    "s"
   ]
  },
  {
   "cell_type": "code",
   "execution_count": 22,
   "metadata": {},
   "outputs": [
    {
     "data": {
      "application/vnd.jupyter.widget-view+json": {
       "model_id": "f8e61010aac2441e810f5257fcd74f3d",
       "version_major": 2,
       "version_minor": 0
      },
      "text/html": [
       "<p>Failed to display Jupyter Widget of type <code>FloatSlider</code>.</p>\n",
       "<p>\n",
       "  If you're reading this message in the Jupyter Notebook or JupyterLab Notebook, it may mean\n",
       "  that the widgets JavaScript is still loading. If this message persists, it\n",
       "  likely means that the widgets JavaScript library is either not installed or\n",
       "  not enabled. See the <a href=\"https://ipywidgets.readthedocs.io/en/stable/user_install.html\">Jupyter\n",
       "  Widgets Documentation</a> for setup instructions.\n",
       "</p>\n",
       "<p>\n",
       "  If you're reading this message in another frontend (for example, a static\n",
       "  rendering on GitHub or <a href=\"https://nbviewer.jupyter.org/\">NBViewer</a>),\n",
       "  it may mean that your frontend doesn't currently support widgets.\n",
       "</p>\n"
      ],
      "text/plain": [
       "FloatSlider(value=0.0)"
      ]
     },
     "metadata": {},
     "output_type": "display_data"
    }
   ],
   "source": [
    "# since cells are widgets, we can use jslink to link a slider to a cell value\n",
    "slider = widgets.FloatSlider()\n",
    "widgets.jslink((b, 'value'), (slider, 'value'))\n",
    "slider"
   ]
  },
  {
   "cell_type": "code",
   "execution_count": null,
   "metadata": {},
   "outputs": [],
   "source": []
  },
  {
   "cell_type": "code",
   "execution_count": 23,
   "metadata": {},
   "outputs": [
    {
     "data": {
      "application/vnd.jupyter.widget-view+json": {
       "model_id": "8e82ae7ce19f4c2da6c33e05725f6c4d",
       "version_major": 2,
       "version_minor": 0
      },
      "text/html": [
       "<p>Failed to display Jupyter Widget of type <code>Sheet</code>.</p>\n",
       "<p>\n",
       "  If you're reading this message in the Jupyter Notebook or JupyterLab Notebook, it may mean\n",
       "  that the widgets JavaScript is still loading. If this message persists, it\n",
       "  likely means that the widgets JavaScript library is either not installed or\n",
       "  not enabled. See the <a href=\"https://ipywidgets.readthedocs.io/en/stable/user_install.html\">Jupyter\n",
       "  Widgets Documentation</a> for setup instructions.\n",
       "</p>\n",
       "<p>\n",
       "  If you're reading this message in another frontend (for example, a static\n",
       "  rendering on GitHub or <a href=\"https://nbviewer.jupyter.org/\">NBViewer</a>),\n",
       "  it may mean that your frontend doesn't currently support widgets.\n",
       "</p>\n"
      ],
      "text/plain": [
       "Sheet(cells=(Cell(column_end=1, column_start=1, row_end=0, row_start=0, type='numeric', value=4.0), Cell(column_end=0, column_start=0, row_end=0, row_start=0, style={'fontWeight': 'bold'}, type='text', value='interest(%):'), Cell(column_end=1, column_start=1, row_end=1, row_start=1, type='numeric', value=100.0), Cell(column_end=0, column_start=0, row_end=1, row_start=1, style={'fontWeight': 'bold'}, type='text', value='amount(EUR):'), Cell(column_end=0, column_start=0, type='text', value='year 1'), Cell(column_end=1, column_start=1, type='numeric', value=0.0), Cell(column_end=0, column_start=0, row_end=4, row_start=4, type='text', value='year 2'), Cell(column_end=1, column_start=1, row_end=4, row_start=4, type='numeric', value=0.0), Cell(column_end=0, column_start=0, row_end=5, row_start=5, type='text', value='year 3'), Cell(column_end=1, column_start=1, row_end=5, row_start=5, type='numeric', value=0.0), Cell(column_end=0, column_start=0, row_end=6, row_start=6, type='text', value='year 4'), Cell(column_end=1, column_start=1, row_end=6, row_start=6, type='numeric', value=0.0), Cell(column_end=0, column_start=0, row_end=7, row_start=7, type='text', value='year 5'), Cell(column_end=1, column_start=1, row_end=7, row_start=7, type='numeric', value=0.0), Cell(column_end=0, column_start=0, row_end=8, row_start=8, type='text', value='year 6'), Cell(column_end=1, column_start=1, row_end=8, row_start=8, type='numeric', value=0.0), Cell(column_end=0, column_start=0, row_end=9, row_start=9, type='text', value='year 7'), Cell(column_end=1, column_start=1, row_end=9, row_start=9, type='numeric', value=0.0), Cell(column_end=0, column_start=0, row_end=10, row_start=10, type='text', value='year 8'), Cell(column_end=1, column_start=1, row_end=10, row_start=10, type='numeric', value=0.0), Cell(column_end=0, column_start=0, row_end=11, row_start=11, type='text', value='year 9'), Cell(column_end=1, column_start=1, row_end=11, row_start=11, type='numeric', value=0.0), Cell(column_end=0, column_start=0, row_end=12, row_start=12, type='text', value='year 10'), Cell(column_end=1, column_start=1, row_end=12, row_start=12, type='numeric', value=0.0)), columns=2, data=[[]], rows=13, stretch_headers='none')"
      ]
     },
     "metadata": {},
     "output_type": "display_data"
    }
   ],
   "source": [
    "# another example setting up a sheet programmatically\n",
    "N_years = 10\n",
    "sheet2 = ipysheet.sheet(rows=N_years+3, columns=2, stretch_headers='none')\n",
    "interest = ipysheet.cell(0, 1, 4., label_left='interest(%):')\n",
    "amount = ipysheet.cell(1, 1, 100., label_left='amount(EUR):')\n",
    "\n",
    "savings_cells = []\n",
    "for i in range(N_years):\n",
    "    ipysheet.cell(i+3, 0, \"year %s\" % (i+1))\n",
    "    savings_cell = ipysheet.cell(i+3, 1, 0.)\n",
    "    savings_cells.append(savings_cell)\n",
    "\n",
    "sheet2"
   ]
  },
  {
   "cell_type": "code",
   "execution_count": 24,
   "metadata": {},
   "outputs": [],
   "source": [
    "# and connecting a calculation to it\n",
    "def calculate_savings(change=None):\n",
    "    value = amount.value\n",
    "    factor = (1+interest.value/100.)\n",
    "    for i in range(N_years):\n",
    "        value = value * factor\n",
    "        savings_cells[i].value = value\n",
    "calculate_savings()\n",
    "interest.observe(calculate_savings, \"value\")\n",
    "amount.observe(calculate_savings, \"value\")\n"
   ]
  },
  {
   "cell_type": "code",
   "execution_count": null,
   "metadata": {},
   "outputs": [],
   "source": []
  },
  {
   "cell_type": "code",
   "execution_count": null,
   "metadata": {},
   "outputs": [],
   "source": []
  },
  {
   "cell_type": "code",
   "execution_count": null,
   "metadata": {},
   "outputs": [],
   "source": []
  },
  {
   "cell_type": "code",
   "execution_count": 25,
   "metadata": {},
   "outputs": [],
   "source": [
    "#  %%javascript\n",
    "# // // This cell only needs to be executed for development purposes\n",
    "# // require.onResourceLoad = function(context, map)\n",
    "# // {\n",
    "# //     console.log(\"loading \" +map.name)\n",
    "# //     //require.undef(map.name);\n",
    "# // };\n",
    "# // require.undef(\"nbextensions/ipysheet/index\")\n",
    "# // require([\"nbextensions/ipysheet/index\"])"
   ]
  },
  {
   "cell_type": "code",
   "execution_count": null,
   "metadata": {},
   "outputs": [],
   "source": []
  }
 ],
 "metadata": {
  "kernelspec": {
   "display_name": "Python 3",
   "language": "python",
   "name": "python3"
  },
  "language_info": {
   "codemirror_mode": {
    "name": "ipython",
    "version": 3
   },
   "file_extension": ".py",
   "mimetype": "text/x-python",
   "name": "python",
   "nbconvert_exporter": "python",
   "pygments_lexer": "ipython3",
   "version": "3.6.1"
  }
 },
 "nbformat": 4,
 "nbformat_minor": 2
}
